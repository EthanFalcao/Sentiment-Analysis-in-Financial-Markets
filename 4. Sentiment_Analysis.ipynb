{
 "cells": [
  {
   "cell_type": "markdown",
   "metadata": {},
   "source": [
    "## Sentiment Analysis"
   ]
  },
  {
   "cell_type": "markdown",
   "metadata": {},
   "source": [
    "#### import data"
   ]
  },
  {
   "cell_type": "code",
   "execution_count": 1,
   "metadata": {},
   "outputs": [],
   "source": [
    "import pandas as pd\n",
    "import matplotlib.pyplot as plt\n",
    "import seaborn as sns"
   ]
  },
  {
   "cell_type": "code",
   "execution_count": 2,
   "metadata": {},
   "outputs": [],
   "source": [
    "#df = pd.read_csv('../merged_df/merged_df.csv', sep=\",\", index_col=0)"
   ]
  },
  {
   "cell_type": "code",
   "execution_count": 3,
   "metadata": {},
   "outputs": [],
   "source": [
    "df_text=pd.read_csv('data/textual/df_text_eda.csv', sep=\",\", index_col=0 )"
   ]
  },
  {
   "cell_type": "code",
   "execution_count": 4,
   "metadata": {},
   "outputs": [
    {
     "data": {
      "text/html": [
       "<div>\n",
       "<style scoped>\n",
       "    .dataframe tbody tr th:only-of-type {\n",
       "        vertical-align: middle;\n",
       "    }\n",
       "\n",
       "    .dataframe tbody tr th {\n",
       "        vertical-align: top;\n",
       "    }\n",
       "\n",
       "    .dataframe thead th {\n",
       "        text-align: right;\n",
       "    }\n",
       "</style>\n",
       "<table border=\"1\" class=\"dataframe\">\n",
       "  <thead>\n",
       "    <tr style=\"text-align: right;\">\n",
       "      <th></th>\n",
       "      <th>url</th>\n",
       "      <th>title</th>\n",
       "      <th>date</th>\n",
       "      <th>author</th>\n",
       "      <th>description</th>\n",
       "      <th>text</th>\n",
       "      <th>Article Length</th>\n",
       "    </tr>\n",
       "  </thead>\n",
       "  <tbody>\n",
       "    <tr>\n",
       "      <th>0</th>\n",
       "      <td>https://www.cnbc.com/select/best-balance-trans...</td>\n",
       "      <td>11 best balance transfer cards with 0% APR of ...</td>\n",
       "      <td>2019-10-15 05:00:00+00:00</td>\n",
       "      <td>Jason Stauffer,Brett Holzhauer</td>\n",
       "      <td>We analyzed 101 balance transfer cards using a...</td>\n",
       "      <td>Who's this for: The Citi Simplicity® Card has ...</td>\n",
       "      <td>1133</td>\n",
       "    </tr>\n",
       "    <tr>\n",
       "      <th>1</th>\n",
       "      <td>https://www.cnbc.com/select/the-best-credit-ca...</td>\n",
       "      <td>The best credit cards for building credit of J...</td>\n",
       "      <td>2019-10-29 15:24:00+00:00</td>\n",
       "      <td>Benji Stawski,Alexandria White</td>\n",
       "      <td>We analyzed 29 credit cards that are marketed ...</td>\n",
       "      <td>If you lack a credit history or have poor cred...</td>\n",
       "      <td>1468</td>\n",
       "    </tr>\n",
       "  </tbody>\n",
       "</table>\n",
       "</div>"
      ],
      "text/plain": [
       "                                                 url  \\\n",
       "0  https://www.cnbc.com/select/best-balance-trans...   \n",
       "1  https://www.cnbc.com/select/the-best-credit-ca...   \n",
       "\n",
       "                                               title  \\\n",
       "0  11 best balance transfer cards with 0% APR of ...   \n",
       "1  The best credit cards for building credit of J...   \n",
       "\n",
       "                        date                          author  \\\n",
       "0  2019-10-15 05:00:00+00:00  Jason Stauffer,Brett Holzhauer   \n",
       "1  2019-10-29 15:24:00+00:00  Benji Stawski,Alexandria White   \n",
       "\n",
       "                                         description  \\\n",
       "0  We analyzed 101 balance transfer cards using a...   \n",
       "1  We analyzed 29 credit cards that are marketed ...   \n",
       "\n",
       "                                                text  Article Length  \n",
       "0  Who's this for: The Citi Simplicity® Card has ...            1133  \n",
       "1  If you lack a credit history or have poor cred...            1468  "
      ]
     },
     "execution_count": 4,
     "metadata": {},
     "output_type": "execute_result"
    }
   ],
   "source": [
    "df_text.head(2)"
   ]
  },
  {
   "cell_type": "code",
   "execution_count": 5,
   "metadata": {},
   "outputs": [
    {
     "name": "stdout",
     "output_type": "stream",
     "text": [
      "<class 'pandas.core.frame.DataFrame'>\n",
      "Index: 9770 entries, 0 to 10002\n",
      "Data columns (total 7 columns):\n",
      " #   Column          Non-Null Count  Dtype \n",
      "---  ------          --------------  ----- \n",
      " 0   url             9770 non-null   object\n",
      " 1   title           9770 non-null   object\n",
      " 2   date            9770 non-null   object\n",
      " 3   author          9565 non-null   object\n",
      " 4   description     9746 non-null   object\n",
      " 5   text            9770 non-null   object\n",
      " 6   Article Length  9770 non-null   int64 \n",
      "dtypes: int64(1), object(6)\n",
      "memory usage: 610.6+ KB\n"
     ]
    }
   ],
   "source": [
    "df_text.info()"
   ]
  },
  {
   "cell_type": "markdown",
   "metadata": {},
   "source": [
    "#### Only use articles that mention the given ticker and stock market "
   ]
  },
  {
   "cell_type": "code",
   "execution_count": 6,
   "metadata": {},
   "outputs": [
    {
     "data": {
      "text/plain": [
       "(                                                  url  \\\n",
       " 1   https://www.cnbc.com/select/the-best-credit-ca...   \n",
       " 4   https://www.cnbc.com/select/best-credit-card-s...   \n",
       " 6   https://www.cnbc.com/select/best-brick-mortar-...   \n",
       " 7   https://www.cnbc.com/select/best-high-yield-sa...   \n",
       " 10  https://www.cnbc.com/select/best-loans-for-ref...   \n",
       " \n",
       "                                                 title  \\\n",
       " 1   The best credit cards for building credit of J...   \n",
       " 4   The best credit card sign-up bonuses of Januar...   \n",
       " 6   Best brick-and-mortar checking accounts of Jan...   \n",
       " 7   The best high-yield savings accounts of Januar...   \n",
       " 10  Here are the best loans for refinancing credit...   \n",
       " \n",
       "                          date  \\\n",
       " 1   2019-10-29 15:24:00+00:00   \n",
       " 4   2019-11-12 19:30:46+00:00   \n",
       " 6   2020-12-23 14:00:02+00:00   \n",
       " 7   2020-05-06 13:54:54+00:00   \n",
       " 10  2021-01-14 15:16:52+00:00   \n",
       " \n",
       "                                              author  \\\n",
       " 1                    Benji Stawski,Alexandria White   \n",
       " 4                Elizabeth Gravier,Alexandria White   \n",
       " 6                                  Alexandria White   \n",
       " 7   Benji Stawski,Brett Holzhauer,Elizabeth Gravier   \n",
       " 10                                   Megan DeMatteo   \n",
       " \n",
       "                                           description  \\\n",
       " 1   We analyzed 29 credit cards that are marketed ...   \n",
       " 4   We analyzed the most popular credit cards avai...   \n",
       " 6   These brick-and-mortar checking accounts are F...   \n",
       " 7   We rounded up the top nine high-yield savings ...   \n",
       " 10  CNBC Select rounded up the top personal loans ...   \n",
       " \n",
       "                                                  text  Article Length  \n",
       " 1   If you lack a credit history or have poor cred...            1468  \n",
       " 4   Terms apply to American Express benefits and o...            1848  \n",
       " 6   Editor's Note: APYs listed in this article are...             299  \n",
       " 7   Who's this for? The LendingClub High-Yield Sav...            2155  \n",
       " 10  Credit card debt is common, but paying high in...            1932  ,\n",
       " 4875)"
      ]
     },
     "execution_count": 6,
     "metadata": {},
     "output_type": "execute_result"
    }
   ],
   "source": [
    "import pandas as pd\n",
    "\n",
    "# only use articles that mention the given ticker and stock market \n",
    "keywords = '''\n",
    "TSLA|Tesla|Elon Musk|Model S|Cybertruck|\n",
    "AAPL|Apple|Tim Cook|iPhone|Mac|\n",
    "MSFT|Microsoft|Satya Nadella|Windows|Azure|\n",
    "GOOG|Google|Sundar Pichai|Android|AdSense|\n",
    "AMZN|Amazon|Andy Jassy|Prime|AWS|\n",
    "Shares|Dividend|Earnings|IPO|Buyback|Financial Results|Quarterly Report|SEC Filings|Stock Split|Market Cap|Trading Volume|\n",
    "Merger|Acquisition|Partnership|Innovation|Patent|Lawsuit|Regulation|Stock|Option\n",
    "'''\n",
    "\n",
    "# Filter articles based on keywords, case-insensitive\n",
    "df = df_text[df_text['text'].str.contains(keywords, case=False, na=False)]\n",
    "\n",
    "df.head(), len(df)\n"
   ]
  },
  {
   "cell_type": "markdown",
   "metadata": {},
   "source": [
    "## bert-base-multilingual-uncased-sentiment"
   ]
  },
  {
   "cell_type": "code",
   "execution_count": 7,
   "metadata": {},
   "outputs": [
    {
     "name": "stderr",
     "output_type": "stream",
     "text": [
      "C:\\Users\\ethan\\AppData\\Local\\Packages\\PythonSoftwareFoundation.Python.3.9_qbz5n2kfra8p0\\LocalCache\\local-packages\\Python39\\site-packages\\tqdm\\auto.py:21: TqdmWarning: IProgress not found. Please update jupyter and ipywidgets. See https://ipywidgets.readthedocs.io/en/stable/user_install.html\n",
      "  from .autonotebook import tqdm as notebook_tqdm\n"
     ]
    }
   ],
   "source": [
    "from transformers import AutoModelForSequenceClassification, AutoTokenizer\n",
    "\n",
    "# Load model and tokenizer\n",
    "model_name = \"nlptown/bert-base-multilingual-uncased-sentiment\"\n",
    "tokenizer = AutoTokenizer.from_pretrained(model_name)\n",
    "model = AutoModelForSequenceClassification.from_pretrained(model_name)\n",
    "\n"
   ]
  },
  {
   "cell_type": "code",
   "execution_count": 8,
   "metadata": {},
   "outputs": [],
   "source": [
    "import torch\n",
    "\n",
    "def analyze_sentiment(text):\n",
    "    # Tokenize and prepare the input\n",
    "    inputs = tokenizer(text, return_tensors=\"pt\", truncation=True, padding=True)\n",
    "\n",
    "    # Perform inference\n",
    "    with torch.no_grad():\n",
    "        outputs = model(**inputs)\n",
    "\n",
    "    # Get the predicted sentiment\n",
    "    sentiment_scores = outputs.logits\n",
    "    predicted_class = torch.argmax(sentiment_scores, dim=1).item()\n",
    "\n",
    "    # Return the sentiment as a numeric value from 1 to 5\n",
    "    sentiment_value = predicted_class + 1  # To convert zero-indexed to 1-indexed\n",
    "\n",
    "    return sentiment_value\n"
   ]
  },
  {
   "cell_type": "code",
   "execution_count": 9,
   "metadata": {},
   "outputs": [],
   "source": [
    "# Add a new column for sentiment analysis results\n",
    "df[\"sentiment\"] = df[\"text\"].apply(analyze_sentiment)"
   ]
  },
  {
   "cell_type": "code",
   "execution_count": null,
   "metadata": {},
   "outputs": [],
   "source": [
    "df.to_csv('data/textual/df_text_sentiment.csv')"
   ]
  },
  {
   "cell_type": "code",
   "execution_count": 8,
   "metadata": {},
   "outputs": [],
   "source": [
    "from textblob import TextBlob\n",
    "df['sentiment_polarity'] = df['text'].apply(lambda x: TextBlob(str(x)).sentiment.polarity)\n"
   ]
  }
 ],
 "metadata": {
  "kernelspec": {
   "display_name": "Python 3",
   "language": "python",
   "name": "python3"
  },
  "language_info": {
   "codemirror_mode": {
    "name": "ipython",
    "version": 3
   },
   "file_extension": ".py",
   "mimetype": "text/x-python",
   "name": "python",
   "nbconvert_exporter": "python",
   "pygments_lexer": "ipython3",
   "version": "3.9.13"
  }
 },
 "nbformat": 4,
 "nbformat_minor": 2
}
