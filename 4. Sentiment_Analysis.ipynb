{
 "cells": [
  {
   "cell_type": "markdown",
   "metadata": {},
   "source": [
    "## Sentiment Analysis"
   ]
  },
  {
   "cell_type": "markdown",
   "metadata": {},
   "source": [
    "#### import data"
   ]
  },
  {
   "cell_type": "code",
   "execution_count": 62,
   "metadata": {},
   "outputs": [],
   "source": [
    "import pandas as pd\n",
    "import matplotlib.pyplot as plt\n",
    "import seaborn as sns"
   ]
  },
  {
   "cell_type": "code",
   "execution_count": 63,
   "metadata": {},
   "outputs": [],
   "source": [
    "#df = pd.read_csv('../merged_df/merged_df.csv', sep=\",\", index_col=0)"
   ]
  },
  {
   "cell_type": "code",
   "execution_count": 64,
   "metadata": {},
   "outputs": [],
   "source": [
    "df_text=pd.read_csv('data/textual/df_text_eda.csv', sep=\",\", index_col=0 )"
   ]
  },
  {
   "cell_type": "code",
   "execution_count": 65,
   "metadata": {},
   "outputs": [
    {
     "data": {
      "text/html": [
       "<div>\n",
       "<style scoped>\n",
       "    .dataframe tbody tr th:only-of-type {\n",
       "        vertical-align: middle;\n",
       "    }\n",
       "\n",
       "    .dataframe tbody tr th {\n",
       "        vertical-align: top;\n",
       "    }\n",
       "\n",
       "    .dataframe thead th {\n",
       "        text-align: right;\n",
       "    }\n",
       "</style>\n",
       "<table border=\"1\" class=\"dataframe\">\n",
       "  <thead>\n",
       "    <tr style=\"text-align: right;\">\n",
       "      <th></th>\n",
       "      <th>url</th>\n",
       "      <th>title</th>\n",
       "      <th>date</th>\n",
       "      <th>author</th>\n",
       "      <th>description</th>\n",
       "      <th>text</th>\n",
       "      <th>Article Length</th>\n",
       "    </tr>\n",
       "  </thead>\n",
       "  <tbody>\n",
       "    <tr>\n",
       "      <th>0</th>\n",
       "      <td>https://www.cnbc.com/select/best-balance-trans...</td>\n",
       "      <td>11 best balance transfer cards with 0% APR of ...</td>\n",
       "      <td>2019-10-15 05:00:00+00:00</td>\n",
       "      <td>Jason Stauffer,Brett Holzhauer</td>\n",
       "      <td>We analyzed 101 balance transfer cards using a...</td>\n",
       "      <td>Who's this for: The Citi Simplicity® Card has ...</td>\n",
       "      <td>1133</td>\n",
       "    </tr>\n",
       "    <tr>\n",
       "      <th>1</th>\n",
       "      <td>https://www.cnbc.com/select/the-best-credit-ca...</td>\n",
       "      <td>The best credit cards for building credit of J...</td>\n",
       "      <td>2019-10-29 15:24:00+00:00</td>\n",
       "      <td>Benji Stawski,Alexandria White</td>\n",
       "      <td>We analyzed 29 credit cards that are marketed ...</td>\n",
       "      <td>If you lack a credit history or have poor cred...</td>\n",
       "      <td>1468</td>\n",
       "    </tr>\n",
       "  </tbody>\n",
       "</table>\n",
       "</div>"
      ],
      "text/plain": [
       "                                                 url  \\\n",
       "0  https://www.cnbc.com/select/best-balance-trans...   \n",
       "1  https://www.cnbc.com/select/the-best-credit-ca...   \n",
       "\n",
       "                                               title  \\\n",
       "0  11 best balance transfer cards with 0% APR of ...   \n",
       "1  The best credit cards for building credit of J...   \n",
       "\n",
       "                        date                          author  \\\n",
       "0  2019-10-15 05:00:00+00:00  Jason Stauffer,Brett Holzhauer   \n",
       "1  2019-10-29 15:24:00+00:00  Benji Stawski,Alexandria White   \n",
       "\n",
       "                                         description  \\\n",
       "0  We analyzed 101 balance transfer cards using a...   \n",
       "1  We analyzed 29 credit cards that are marketed ...   \n",
       "\n",
       "                                                text  Article Length  \n",
       "0  Who's this for: The Citi Simplicity® Card has ...            1133  \n",
       "1  If you lack a credit history or have poor cred...            1468  "
      ]
     },
     "execution_count": 65,
     "metadata": {},
     "output_type": "execute_result"
    }
   ],
   "source": [
    "df_text.head(2)"
   ]
  },
  {
   "cell_type": "code",
   "execution_count": 66,
   "metadata": {},
   "outputs": [
    {
     "name": "stdout",
     "output_type": "stream",
     "text": [
      "<class 'pandas.core.frame.DataFrame'>\n",
      "Index: 9770 entries, 0 to 10002\n",
      "Data columns (total 7 columns):\n",
      " #   Column          Non-Null Count  Dtype \n",
      "---  ------          --------------  ----- \n",
      " 0   url             9770 non-null   object\n",
      " 1   title           9770 non-null   object\n",
      " 2   date            9770 non-null   object\n",
      " 3   author          9565 non-null   object\n",
      " 4   description     9746 non-null   object\n",
      " 5   text            9770 non-null   object\n",
      " 6   Article Length  9770 non-null   int64 \n",
      "dtypes: int64(1), object(6)\n",
      "memory usage: 610.6+ KB\n"
     ]
    }
   ],
   "source": [
    "df_text.info()"
   ]
  },
  {
   "cell_type": "markdown",
   "metadata": {},
   "source": [
    "#### Only use articles that mention the given ticker and stock market "
   ]
  },
  {
   "cell_type": "markdown",
   "metadata": {},
   "source": [
    "GOOG|Google|Sundar Pichai|Android|AdSense|\n",
    "AMZN|Amazon|Andy Jassy|Prime|AWS|\n",
    "Shares|Dividend|Earnings|IPO|Buyback|Financial Results|Quarterly Report|SEC Filings|Stock Split|Market Cap|Trading Volume|\n",
    "\n",
    "\n",
    "\n",
    "TSLA|Tesla|Elon Musk|Model S|Cybertruck|\n",
    "AAPL|Apple|Tim Cook|iPhone|Mac|\n",
    "Merger|Acquisition|Partnership|Innovation|Patent|Lawsuit|Regulation|Stock|Option\n",
    "\n",
    "\"Satya Nadella|Nadella|Azure|Windows|Microsoft|MSFT|Xbox|Office|Surface|Microsoft Teams|Microsoft Edge|OneDrive|Skype|LinkedIn|Outlook|Bill Gates|Steve Ballmer\""
   ]
  },
  {
   "cell_type": "code",
   "execution_count": 67,
   "metadata": {},
   "outputs": [
    {
     "data": {
      "text/plain": [
       "(                                                 url  \\\n",
       " 0  https://www.cnbc.com/select/best-balance-trans...   \n",
       " 2  https://www.cnbc.com/select/best-cash-back-cre...   \n",
       " 3  https://www.cnbc.com/select/personal-loan-lend...   \n",
       " 4  https://www.cnbc.com/select/best-credit-card-s...   \n",
       " 5  https://www.cnbc.com/select/6-personal-loans-t...   \n",
       " \n",
       "                                                title  \\\n",
       " 0  11 best balance transfer cards with 0% APR of ...   \n",
       " 2    The best cash-back credit cards of January 2024   \n",
       " 3  Do you need a large personal loan? These lende...   \n",
       " 4  The best credit card sign-up bonuses of Januar...   \n",
       " 5  6 personal loan lenders that’ll get you funded...   \n",
       " \n",
       "                         date                              author  \\\n",
       " 0  2019-10-15 05:00:00+00:00      Jason Stauffer,Brett Holzhauer   \n",
       " 2  2019-10-15 05:00:00+00:00     Alexandria White,Jason Stauffer   \n",
       " 3  2022-05-06 19:12:25+00:00                     Jasmin Suknanan   \n",
       " 4  2019-11-12 19:30:46+00:00  Elizabeth Gravier,Alexandria White   \n",
       " 5  2021-11-18 22:29:58+00:00                     Jasmin Suknanan   \n",
       " \n",
       "                                          description  \\\n",
       " 0  We analyzed 101 balance transfer cards using a...   \n",
       " 2  We analyzed 50 of the most popular cash-back c...   \n",
       " 3  Select analyzed key factors like interest rate...   \n",
       " 4  We analyzed the most popular credit cards avai...   \n",
       " 5  Select rounded up some personal loan lenders t...   \n",
       " \n",
       "                                                 text  Article Length  \n",
       " 0  Who's this for: The Citi Simplicity® Card has ...            1133  \n",
       " 2  Who's this for? The Citi Double Cash® Card is ...            1598  \n",
       " 3  Personal loans are a common way to pay for lar...            1035  \n",
       " 4  Terms apply to American Express benefits and o...            1848  \n",
       " 5  Personal loans have quickly become a convenien...            1848  ,\n",
       " 6105)"
      ]
     },
     "execution_count": 67,
     "metadata": {},
     "output_type": "execute_result"
    }
   ],
   "source": [
    "import pandas as pd\n",
    " \n",
    "keywords = '''\n",
    "Microsoft|MSFT|Satya Nadella|Bill Gates|Steve Ballmer|\n",
    "Windows|Azure|Office|Xbox|Surface|Teams|OneDrive|Skype|LinkedIn|Outlook|Edge|\n",
    "SQL Server|Power BI|Microsoft Dynamics|SharePoint|Microsoft 365|Visual Studio|GitHub|\n",
    "Hotmail|MS-DOS|Visual Basic|PowerPoint|Excel|Word|C#|Bing|\n",
    "Apple|Google|Amazon|IBM|Oracle|Salesforce|SAP|Adobe|\n",
    "AWS|Amazon Web Services|Google Cloud|IBM Cloud|Oracle Cloud|\n",
    "Apple|iPhone|Mac|iPad|MacOS|Android|Samsung|Dell|HP|Lenovo|\n",
    "Google Workspace|G Suite|Adobe Creative Cloud|Adobe Photoshop|Slack|Dropbox|\n",
    "AAPL|Apple|Tim Cook|iPhone|Mac|GOOG|Google|Sundar Pichai|Android|AdSense|Stock|Steve Jobs\n",
    "    \n",
    "'''\n",
    "# Filter articles based on keywords\n",
    "df = df_text[df_text['text'].str.contains(keywords, case=False, na=False)]\n",
    "\n",
    "df.head(), len(df)\n"
   ]
  },
  {
   "cell_type": "markdown",
   "metadata": {},
   "source": [
    "## bert-base-multilingual-uncased-sentiment"
   ]
  },
  {
   "cell_type": "code",
   "execution_count": 68,
   "metadata": {},
   "outputs": [],
   "source": [
    "from transformers import AutoModelForSequenceClassification, AutoTokenizer\n",
    "\n",
    "# Load model and tokenizer\n",
    "model_name = \"nlptown/bert-base-multilingual-uncased-sentiment\"\n",
    "tokenizer = AutoTokenizer.from_pretrained(model_name)\n",
    "model = AutoModelForSequenceClassification.from_pretrained(model_name)"
   ]
  },
  {
   "cell_type": "code",
   "execution_count": 69,
   "metadata": {},
   "outputs": [],
   "source": [
    "import torch\n",
    "\n",
    "def analyze_sentiment(text):\n",
    "    # Tokenize and prepare the input\n",
    "    inputs = tokenizer(text, return_tensors=\"pt\", truncation=True, padding=True)\n",
    "\n",
    "    # Perform inference\n",
    "    with torch.no_grad():\n",
    "        outputs = model(**inputs)\n",
    "\n",
    "    # Get the predicted sentiment\n",
    "    sentiment_scores = outputs.logits\n",
    "    predicted_class = torch.argmax(sentiment_scores, dim=1).item()\n",
    "\n",
    "    # Return the sentiment as a numeric value from 1 to 5\n",
    "    sentiment_value = predicted_class + 1  # To convert zero-indexed to 1-indexed\n",
    "\n",
    "    return sentiment_value\n"
   ]
  },
  {
   "cell_type": "code",
   "execution_count": 70,
   "metadata": {},
   "outputs": [
    {
     "name": "stderr",
     "output_type": "stream",
     "text": [
      "C:\\Users\\ethan\\AppData\\Local\\Temp\\ipykernel_20476\\1673758664.py:2: SettingWithCopyWarning: \n",
      "A value is trying to be set on a copy of a slice from a DataFrame.\n",
      "Try using .loc[row_indexer,col_indexer] = value instead\n",
      "\n",
      "See the caveats in the documentation: https://pandas.pydata.org/pandas-docs/stable/user_guide/indexing.html#returning-a-view-versus-a-copy\n",
      "  df[\"sentiment\"] = df[\"text\"].apply(analyze_sentiment)\n"
     ]
    }
   ],
   "source": [
    "# Add a new column for sentiment analysis results\n",
    "df[\"sentiment\"] = df[\"text\"].apply(analyze_sentiment)"
   ]
  },
  {
   "cell_type": "code",
   "execution_count": 76,
   "metadata": {},
   "outputs": [
    {
     "data": {
      "text/html": [
       "<div>\n",
       "<style scoped>\n",
       "    .dataframe tbody tr th:only-of-type {\n",
       "        vertical-align: middle;\n",
       "    }\n",
       "\n",
       "    .dataframe tbody tr th {\n",
       "        vertical-align: top;\n",
       "    }\n",
       "\n",
       "    .dataframe thead th {\n",
       "        text-align: right;\n",
       "    }\n",
       "</style>\n",
       "<table border=\"1\" class=\"dataframe\">\n",
       "  <thead>\n",
       "    <tr style=\"text-align: right;\">\n",
       "      <th></th>\n",
       "      <th>url</th>\n",
       "      <th>title</th>\n",
       "      <th>date</th>\n",
       "      <th>author</th>\n",
       "      <th>description</th>\n",
       "      <th>text</th>\n",
       "      <th>Article Length</th>\n",
       "      <th>sentiment</th>\n",
       "      <th>sentiment_label</th>\n",
       "    </tr>\n",
       "  </thead>\n",
       "  <tbody>\n",
       "    <tr>\n",
       "      <th>0</th>\n",
       "      <td>https://www.cnbc.com/select/best-balance-trans...</td>\n",
       "      <td>11 best balance transfer cards with 0% APR of ...</td>\n",
       "      <td>2019-10-15 05:00:00+00:00</td>\n",
       "      <td>Jason Stauffer,Brett Holzhauer</td>\n",
       "      <td>We analyzed 101 balance transfer cards using a...</td>\n",
       "      <td>Who's this for: The Citi Simplicity® Card has ...</td>\n",
       "      <td>1133</td>\n",
       "      <td>4</td>\n",
       "      <td>positive</td>\n",
       "    </tr>\n",
       "    <tr>\n",
       "      <th>2</th>\n",
       "      <td>https://www.cnbc.com/select/best-cash-back-cre...</td>\n",
       "      <td>The best cash-back credit cards of January 2024</td>\n",
       "      <td>2019-10-15 05:00:00+00:00</td>\n",
       "      <td>Alexandria White,Jason Stauffer</td>\n",
       "      <td>We analyzed 50 of the most popular cash-back c...</td>\n",
       "      <td>Who's this for? The Citi Double Cash® Card is ...</td>\n",
       "      <td>1598</td>\n",
       "      <td>4</td>\n",
       "      <td>positive</td>\n",
       "    </tr>\n",
       "    <tr>\n",
       "      <th>3</th>\n",
       "      <td>https://www.cnbc.com/select/personal-loan-lend...</td>\n",
       "      <td>Do you need a large personal loan? These lende...</td>\n",
       "      <td>2022-05-06 19:12:25+00:00</td>\n",
       "      <td>Jasmin Suknanan</td>\n",
       "      <td>Select analyzed key factors like interest rate...</td>\n",
       "      <td>Personal loans are a common way to pay for lar...</td>\n",
       "      <td>1035</td>\n",
       "      <td>4</td>\n",
       "      <td>positive</td>\n",
       "    </tr>\n",
       "    <tr>\n",
       "      <th>4</th>\n",
       "      <td>https://www.cnbc.com/select/best-credit-card-s...</td>\n",
       "      <td>The best credit card sign-up bonuses of Januar...</td>\n",
       "      <td>2019-11-12 19:30:46+00:00</td>\n",
       "      <td>Elizabeth Gravier,Alexandria White</td>\n",
       "      <td>We analyzed the most popular credit cards avai...</td>\n",
       "      <td>Terms apply to American Express benefits and o...</td>\n",
       "      <td>1848</td>\n",
       "      <td>4</td>\n",
       "      <td>positive</td>\n",
       "    </tr>\n",
       "    <tr>\n",
       "      <th>5</th>\n",
       "      <td>https://www.cnbc.com/select/6-personal-loans-t...</td>\n",
       "      <td>6 personal loan lenders that’ll get you funded...</td>\n",
       "      <td>2021-11-18 22:29:58+00:00</td>\n",
       "      <td>Jasmin Suknanan</td>\n",
       "      <td>Select rounded up some personal loan lenders t...</td>\n",
       "      <td>Personal loans have quickly become a convenien...</td>\n",
       "      <td>1848</td>\n",
       "      <td>4</td>\n",
       "      <td>positive</td>\n",
       "    </tr>\n",
       "  </tbody>\n",
       "</table>\n",
       "</div>"
      ],
      "text/plain": [
       "                                                 url  \\\n",
       "0  https://www.cnbc.com/select/best-balance-trans...   \n",
       "2  https://www.cnbc.com/select/best-cash-back-cre...   \n",
       "3  https://www.cnbc.com/select/personal-loan-lend...   \n",
       "4  https://www.cnbc.com/select/best-credit-card-s...   \n",
       "5  https://www.cnbc.com/select/6-personal-loans-t...   \n",
       "\n",
       "                                               title  \\\n",
       "0  11 best balance transfer cards with 0% APR of ...   \n",
       "2    The best cash-back credit cards of January 2024   \n",
       "3  Do you need a large personal loan? These lende...   \n",
       "4  The best credit card sign-up bonuses of Januar...   \n",
       "5  6 personal loan lenders that’ll get you funded...   \n",
       "\n",
       "                        date                              author  \\\n",
       "0  2019-10-15 05:00:00+00:00      Jason Stauffer,Brett Holzhauer   \n",
       "2  2019-10-15 05:00:00+00:00     Alexandria White,Jason Stauffer   \n",
       "3  2022-05-06 19:12:25+00:00                     Jasmin Suknanan   \n",
       "4  2019-11-12 19:30:46+00:00  Elizabeth Gravier,Alexandria White   \n",
       "5  2021-11-18 22:29:58+00:00                     Jasmin Suknanan   \n",
       "\n",
       "                                         description  \\\n",
       "0  We analyzed 101 balance transfer cards using a...   \n",
       "2  We analyzed 50 of the most popular cash-back c...   \n",
       "3  Select analyzed key factors like interest rate...   \n",
       "4  We analyzed the most popular credit cards avai...   \n",
       "5  Select rounded up some personal loan lenders t...   \n",
       "\n",
       "                                                text  Article Length  \\\n",
       "0  Who's this for: The Citi Simplicity® Card has ...            1133   \n",
       "2  Who's this for? The Citi Double Cash® Card is ...            1598   \n",
       "3  Personal loans are a common way to pay for lar...            1035   \n",
       "4  Terms apply to American Express benefits and o...            1848   \n",
       "5  Personal loans have quickly become a convenien...            1848   \n",
       "\n",
       "   sentiment sentiment_label  \n",
       "0          4        positive  \n",
       "2          4        positive  \n",
       "3          4        positive  \n",
       "4          4        positive  \n",
       "5          4        positive  "
      ]
     },
     "execution_count": 76,
     "metadata": {},
     "output_type": "execute_result"
    }
   ],
   "source": [
    "df.head()"
   ]
  },
  {
   "cell_type": "code",
   "execution_count": 77,
   "metadata": {},
   "outputs": [
    {
     "data": {
      "image/png": "[encoded data removed]",
      "text/plain": [
       "<Figure size 640x480 with 1 Axes>"
      ]
     },
     "metadata": {},
     "output_type": "display_data"
    }
   ],
   "source": [
    "import matplotlib.pyplot as plt\n",
    "\n",
    "# Create a histogram to visualize the distribution of sentiment scores\n",
    "df[\"sentiment\"].hist(bins=5, alpha=0.7)\n",
    "plt.title(\"Sentiment Score Distribution\")\n",
    "plt.xlabel(\"Sentiment Score\")\n",
    "plt.ylabel(\"Frequency\")\n",
    "plt.show()\n"
   ]
  },
  {
   "cell_type": "markdown",
   "metadata": {},
   "source": [
    "#### Sentiment Labels"
   ]
  },
  {
   "cell_type": "code",
   "execution_count": 78,
   "metadata": {},
   "outputs": [
    {
     "name": "stderr",
     "output_type": "stream",
     "text": [
      "C:\\Users\\ethan\\AppData\\Local\\Temp\\ipykernel_20476\\1386082695.py:9: SettingWithCopyWarning: \n",
      "A value is trying to be set on a copy of a slice from a DataFrame.\n",
      "Try using .loc[row_indexer,col_indexer] = value instead\n",
      "\n",
      "See the caveats in the documentation: https://pandas.pydata.org/pandas-docs/stable/user_guide/indexing.html#returning-a-view-versus-a-copy\n",
      "  df[\"sentiment_label\"] = df[\"sentiment\"].apply(get_sentiment_label)\n"
     ]
    }
   ],
   "source": [
    "sentiment_labels = [\"very negative\", \"negative\", \"neutral\", \"positive\", \"very positive\"]\n",
    "\n",
    "# Function to get the sentiment label based on the sentiment score\n",
    "def get_sentiment_label(score):\n",
    "    # Since the sentiment_scores are 1-based and sentiment_labels are zero-based\n",
    "    return sentiment_labels[score - 1]\n",
    "\n",
    "# Add a new column for the sentiment labels\n",
    "df[\"sentiment_label\"] = df[\"sentiment\"].apply(get_sentiment_label)\n",
    "\n",
    "\n"
   ]
  },
  {
   "cell_type": "code",
   "execution_count": 79,
   "metadata": {},
   "outputs": [],
   "source": [
    "df.to_csv('data/textual/df_text_sentiment.csv')"
   ]
  },
  {
   "cell_type": "markdown",
   "metadata": {},
   "source": [
    "### EDA"
   ]
  },
  {
   "cell_type": "code",
   "execution_count": 81,
   "metadata": {},
   "outputs": [
    {
     "data": {
      "text/html": [
       "<div>\n",
       "<style scoped>\n",
       "    .dataframe tbody tr th:only-of-type {\n",
       "        vertical-align: middle;\n",
       "    }\n",
       "\n",
       "    .dataframe tbody tr th {\n",
       "        vertical-align: top;\n",
       "    }\n",
       "\n",
       "    .dataframe thead th {\n",
       "        text-align: right;\n",
       "    }\n",
       "</style>\n",
       "<table border=\"1\" class=\"dataframe\">\n",
       "  <thead>\n",
       "    <tr style=\"text-align: right;\">\n",
       "      <th></th>\n",
       "      <th>url</th>\n",
       "      <th>title</th>\n",
       "      <th>date</th>\n",
       "      <th>author</th>\n",
       "      <th>description</th>\n",
       "      <th>text</th>\n",
       "      <th>Article Length</th>\n",
       "      <th>sentiment</th>\n",
       "      <th>sentiment_label</th>\n",
       "    </tr>\n",
       "  </thead>\n",
       "  <tbody>\n",
       "    <tr>\n",
       "      <th>0</th>\n",
       "      <td>https://www.cnbc.com/select/best-balance-trans...</td>\n",
       "      <td>11 best balance transfer cards with 0% APR of ...</td>\n",
       "      <td>2019-10-15 05:00:00+00:00</td>\n",
       "      <td>Jason Stauffer,Brett Holzhauer</td>\n",
       "      <td>We analyzed 101 balance transfer cards using a...</td>\n",
       "      <td>Who's this for: The Citi Simplicity® Card has ...</td>\n",
       "      <td>1133</td>\n",
       "      <td>4</td>\n",
       "      <td>positive</td>\n",
       "    </tr>\n",
       "  </tbody>\n",
       "</table>\n",
       "</div>"
      ],
      "text/plain": [
       "                                                 url  \\\n",
       "0  https://www.cnbc.com/select/best-balance-trans...   \n",
       "\n",
       "                                               title  \\\n",
       "0  11 best balance transfer cards with 0% APR of ...   \n",
       "\n",
       "                        date                          author  \\\n",
       "0  2019-10-15 05:00:00+00:00  Jason Stauffer,Brett Holzhauer   \n",
       "\n",
       "                                         description  \\\n",
       "0  We analyzed 101 balance transfer cards using a...   \n",
       "\n",
       "                                                text  Article Length  \\\n",
       "0  Who's this for: The Citi Simplicity® Card has ...            1133   \n",
       "\n",
       "   sentiment sentiment_label  \n",
       "0          4        positive  "
      ]
     },
     "execution_count": 81,
     "metadata": {},
     "output_type": "execute_result"
    }
   ],
   "source": [
    "df.head(1)"
   ]
  }
 ],
 "metadata": {
  "kernelspec": {
   "display_name": "Python 3",
   "language": "python",
   "name": "python3"
  },
  "language_info": {
   "codemirror_mode": {
    "name": "ipython",
    "version": 3
   },
   "file_extension": ".py",
   "mimetype": "text/x-python",
   "name": "python",
   "nbconvert_exporter": "python",
   "pygments_lexer": "ipython3",
   "version": "3.9.13"
  }
 },
 "nbformat": 4,
 "nbformat_minor": 2
}
