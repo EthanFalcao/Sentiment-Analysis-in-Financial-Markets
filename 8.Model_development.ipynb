{
 "cells": [
  {
   "cell_type": "markdown",
   "metadata": {},
   "source": [
    "## Model Development"
   ]
  },
  {
   "cell_type": "markdown",
   "metadata": {},
   "source": [
    "#### import data"
   ]
  },
  {
   "cell_type": "code",
   "execution_count": 14,
   "metadata": {},
   "outputs": [],
   "source": [
    "import pandas as pd\n",
    "import matplotlib.pyplot as plt\n",
    "import seaborn as sns"
   ]
  },
  {
   "cell_type": "code",
   "execution_count": 15,
   "metadata": {},
   "outputs": [],
   "source": [
    "df = pd.read_csv('data/df_fe.csv', sep=\",\", index_col=0)"
   ]
  },
  {
   "cell_type": "code",
   "execution_count": 16,
   "metadata": {},
   "outputs": [
    {
     "data": {
      "text/html": [
       "<div>\n",
       "<style scoped>\n",
       "    .dataframe tbody tr th:only-of-type {\n",
       "        vertical-align: middle;\n",
       "    }\n",
       "\n",
       "    .dataframe tbody tr th {\n",
       "        vertical-align: top;\n",
       "    }\n",
       "\n",
       "    .dataframe thead th {\n",
       "        text-align: right;\n",
       "    }\n",
       "</style>\n",
       "<table border=\"1\" class=\"dataframe\">\n",
       "  <thead>\n",
       "    <tr style=\"text-align: right;\">\n",
       "      <th></th>\n",
       "      <th>date</th>\n",
       "      <th>Stock</th>\n",
       "      <th>Open</th>\n",
       "      <th>Low</th>\n",
       "      <th>Close</th>\n",
       "      <th>Volume</th>\n",
       "      <th>7_day_avg</th>\n",
       "      <th>30_day_avg</th>\n",
       "      <th>60_day_avg</th>\n",
       "      <th>Price_Change_Pct</th>\n",
       "      <th>Article Length</th>\n",
       "      <th>article_sentiment</th>\n",
       "    </tr>\n",
       "  </thead>\n",
       "  <tbody>\n",
       "    <tr>\n",
       "      <th>0</th>\n",
       "      <td>2015-11-23</td>\n",
       "      <td>AMZN</td>\n",
       "      <td>34.138500</td>\n",
       "      <td>33.506001</td>\n",
       "      <td>33.949501</td>\n",
       "      <td>87702000.0</td>\n",
       "      <td>34.701857</td>\n",
       "      <td>33.766227</td>\n",
       "      <td>33.766227</td>\n",
       "      <td>1.576783</td>\n",
       "      <td>973.0</td>\n",
       "      <td>2.0</td>\n",
       "    </tr>\n",
       "    <tr>\n",
       "      <th>1</th>\n",
       "      <td>2015-11-23</td>\n",
       "      <td>AAPL</td>\n",
       "      <td>29.932501</td>\n",
       "      <td>29.334999</td>\n",
       "      <td>29.437500</td>\n",
       "      <td>129930000.0</td>\n",
       "      <td>32.228643</td>\n",
       "      <td>33.646061</td>\n",
       "      <td>33.646061</td>\n",
       "      <td>-1.299248</td>\n",
       "      <td>973.0</td>\n",
       "      <td>2.0</td>\n",
       "    </tr>\n",
       "    <tr>\n",
       "      <th>2</th>\n",
       "      <td>2016-01-28</td>\n",
       "      <td>AMZN</td>\n",
       "      <td>31.903000</td>\n",
       "      <td>29.877501</td>\n",
       "      <td>31.767500</td>\n",
       "      <td>280304000.0</td>\n",
       "      <td>30.081143</td>\n",
       "      <td>33.238644</td>\n",
       "      <td>33.238644</td>\n",
       "      <td>8.914032</td>\n",
       "      <td>384.0</td>\n",
       "      <td>5.0</td>\n",
       "    </tr>\n",
       "    <tr>\n",
       "      <th>3</th>\n",
       "      <td>2016-02-04</td>\n",
       "      <td>MSFT</td>\n",
       "      <td>52.810001</td>\n",
       "      <td>51.369999</td>\n",
       "      <td>52.000000</td>\n",
       "      <td>46987100.0</td>\n",
       "      <td>33.553286</td>\n",
       "      <td>33.898727</td>\n",
       "      <td>33.898727</td>\n",
       "      <td>-0.306748</td>\n",
       "      <td>793.0</td>\n",
       "      <td>2.0</td>\n",
       "    </tr>\n",
       "    <tr>\n",
       "      <th>4</th>\n",
       "      <td>2016-02-09</td>\n",
       "      <td>AMZN</td>\n",
       "      <td>24.919001</td>\n",
       "      <td>23.700001</td>\n",
       "      <td>24.103500</td>\n",
       "      <td>141558000.0</td>\n",
       "      <td>33.085929</td>\n",
       "      <td>34.059894</td>\n",
       "      <td>34.059894</td>\n",
       "      <td>-1.235404</td>\n",
       "      <td>378.0</td>\n",
       "      <td>2.0</td>\n",
       "    </tr>\n",
       "  </tbody>\n",
       "</table>\n",
       "</div>"
      ],
      "text/plain": [
       "         date Stock       Open        Low      Close       Volume  7_day_avg  \\\n",
       "0  2015-11-23  AMZN  34.138500  33.506001  33.949501   87702000.0  34.701857   \n",
       "1  2015-11-23  AAPL  29.932501  29.334999  29.437500  129930000.0  32.228643   \n",
       "2  2016-01-28  AMZN  31.903000  29.877501  31.767500  280304000.0  30.081143   \n",
       "3  2016-02-04  MSFT  52.810001  51.369999  52.000000   46987100.0  33.553286   \n",
       "4  2016-02-09  AMZN  24.919001  23.700001  24.103500  141558000.0  33.085929   \n",
       "\n",
       "   30_day_avg  60_day_avg  Price_Change_Pct  Article Length  article_sentiment  \n",
       "0   33.766227   33.766227          1.576783           973.0                2.0  \n",
       "1   33.646061   33.646061         -1.299248           973.0                2.0  \n",
       "2   33.238644   33.238644          8.914032           384.0                5.0  \n",
       "3   33.898727   33.898727         -0.306748           793.0                2.0  \n",
       "4   34.059894   34.059894         -1.235404           378.0                2.0  "
      ]
     },
     "execution_count": 16,
     "metadata": {},
     "output_type": "execute_result"
    }
   ],
   "source": [
    "df.head()"
   ]
  },
  {
   "cell_type": "code",
   "execution_count": 17,
   "metadata": {},
   "outputs": [
    {
     "data": {
      "text/plain": [
       "(1.5812829876186068, 2.3183591202351383, 0.0005705614778890311)"
      ]
     },
     "execution_count": 17,
     "metadata": {},
     "output_type": "execute_result"
    }
   ],
   "source": [
    "from sklearn.model_selection import train_test_split\n",
    "from sklearn.linear_model import LinearRegression\n",
    "from sklearn.metrics import mean_absolute_error, mean_squared_error, r2_score\n",
    "\n",
    "\n",
    "\n",
    "# Select features and target\n",
    "features = ['article_sentiment', \"30_day_avg\"]  # Predictor\n",
    "target = 'Price_Change_Pct'  # Target variable\n",
    "\n",
    "# Handle missing values by removing rows with NaN in relevant columns\n",
    "df.dropna(subset=features + [target], inplace=True)\n",
    "\n",
    "# Split the data into training and testing sets (80/20 split)\n",
    "X_train, X_test, y_train, y_test = train_test_split(df[features], df[target], test_size=0.2, random_state=42)\n",
    "\n",
    "# Create and train the linear regression model\n",
    "lin_reg = LinearRegression()\n",
    "lin_reg.fit(X_train, y_train)\n",
    "\n",
    "# Test the model on the testing set\n",
    "y_pred = lin_reg.predict(X_test)\n",
    "\n",
    "# Calculate evaluation metrics\n",
    "mae = mean_absolute_error(y_test, y_pred)\n",
    "rmse = mean_squared_error(y_test, y_pred, squared=False)\n",
    "r2 = r2_score(y_test, y_pred)\n",
    "\n",
    "# Output model evaluation results\n",
    "mae, rmse, r2 \n"
   ]
  },
  {
   "cell_type": "code",
   "execution_count": null,
   "metadata": {},
   "outputs": [],
   "source": []
  }
 ],
 "metadata": {
  "kernelspec": {
   "display_name": "Python 3",
   "language": "python",
   "name": "python3"
  },
  "language_info": {
   "codemirror_mode": {
    "name": "ipython",
    "version": 3
   },
   "file_extension": ".py",
   "mimetype": "text/x-python",
   "name": "python",
   "nbconvert_exporter": "python",
   "pygments_lexer": "ipython3",
   "version": "3.9.13"
  }
 },
 "nbformat": 4,
 "nbformat_minor": 2
}
