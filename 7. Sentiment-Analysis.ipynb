{
 "cells": [
  {
   "cell_type": "markdown",
   "metadata": {},
   "source": [
    "## Sentiment Analysis in Financial Markets\n",
    "### Exploratory Data Analysis"
   ]
  },
  {
   "cell_type": "markdown",
   "metadata": {},
   "source": [
    "Analyze news articles, financial reports, or social media to gauge market sentiment. This project would involve natural language processing (NLP) techniques to understand how sentiment affects stock prices."
   ]
  },
  {
   "cell_type": "markdown",
   "metadata": {},
   "source": [
    "### Stocks to focus on \n",
    "\n",
    "- Tesla (Tsla)\n",
    "\n",
    "- Apple Inc. (AAPL)\n",
    "\n",
    "- Amazon.com Inc. (AMZN)\n",
    "\n",
    "- Alphabet Inc. (GOOGL)\n",
    "\n",
    "- Microsoft Corporation (MSFT)\n",
    "\n",
    "- Facebook, Inc. (META)\n",
    "\n",
    "- JPMorgan Chase & Co. (JPM)\n",
    "\n",
    "- NVIDIA Corporation (NVDA)\n"
   ]
  },
  {
   "cell_type": "markdown",
   "metadata": {},
   "source": [
    "### Textual data"
   ]
  },
  {
   "cell_type": "code",
   "execution_count": 53,
   "metadata": {},
   "outputs": [],
   "source": [
    "import pandas as pd\n",
    "import matplotlib.pyplot as plt"
   ]
  },
  {
   "cell_type": "code",
   "execution_count": 54,
   "metadata": {},
   "outputs": [
    {
     "name": "stderr",
     "output_type": "stream",
     "text": [
      "C:\\Users\\Ethan Vaz Falcao\\AppData\\Local\\Temp\\ipykernel_31572\\3534584934.py:1: DtypeWarning: Columns (94,95,96,97,98,99,100,101,102,103,104,105,106,107,108,109,110,111,112,113,114,115,116,117,118,119,120,121,122,123,132,133,134) have mixed types. Specify dtype option on import or set low_memory=False.\n",
      "  df_text=pd.read_csv('data/textual/df_text.csv', sep=\",\")\n"
     ]
    }
   ],
   "source": [
    "df_text=pd.read_csv('data/textual/df_text.csv', sep=\",\")\n",
    "df_text = df_text[['url', 'softTitle','title','date', 'author/1', 'description', 'keywords', 'text']]\n",
    "df_text = df_text.rename(columns={'author/1': 'author' })"
   ]
  },
  {
   "cell_type": "code",
   "execution_count": 55,
   "metadata": {},
   "outputs": [
    {
     "data": {
      "text/plain": [
       "'2008-09-15T07:26:49.000Z'"
      ]
     },
     "execution_count": 55,
     "metadata": {},
     "output_type": "execute_result"
    }
   ],
   "source": [
    "df_text['date'].min()"
   ]
  },
  {
   "cell_type": "code",
   "execution_count": 56,
   "metadata": {},
   "outputs": [
    {
     "data": {
      "text/plain": [
       "'2024-01-08T17:32:11.000Z'"
      ]
     },
     "execution_count": 56,
     "metadata": {},
     "output_type": "execute_result"
    }
   ],
   "source": [
    "df_text['date'].max()"
   ]
  },
  {
   "cell_type": "code",
   "execution_count": 57,
   "metadata": {},
   "outputs": [
    {
     "data": {
      "text/html": [
       "<div>\n",
       "<style scoped>\n",
       "    .dataframe tbody tr th:only-of-type {\n",
       "        vertical-align: middle;\n",
       "    }\n",
       "\n",
       "    .dataframe tbody tr th {\n",
       "        vertical-align: top;\n",
       "    }\n",
       "\n",
       "    .dataframe thead th {\n",
       "        text-align: right;\n",
       "    }\n",
       "</style>\n",
       "<table border=\"1\" class=\"dataframe\">\n",
       "  <thead>\n",
       "    <tr style=\"text-align: right;\">\n",
       "      <th></th>\n",
       "      <th>url</th>\n",
       "      <th>softTitle</th>\n",
       "      <th>title</th>\n",
       "      <th>date</th>\n",
       "      <th>author</th>\n",
       "      <th>description</th>\n",
       "      <th>keywords</th>\n",
       "      <th>text</th>\n",
       "    </tr>\n",
       "  </thead>\n",
       "  <tbody>\n",
       "    <tr>\n",
       "      <th>0</th>\n",
       "      <td>https://www.cnbc.com/select/best-balance-trans...</td>\n",
       "      <td>11 best balance transfer cards with 0% APR of ...</td>\n",
       "      <td>11 best balance transfer cards with 0% APR of ...</td>\n",
       "      <td>2019-10-15T05:00:00.000Z</td>\n",
       "      <td>Jason Stauffer,Brett Holzhauer</td>\n",
       "      <td>We analyzed 101 balance transfer cards using a...</td>\n",
       "      <td>Approved for Apple,Select_Cards,Select_Monetiz...</td>\n",
       "      <td>Who's this for: The Citi Simplicity® Card has ...</td>\n",
       "    </tr>\n",
       "    <tr>\n",
       "      <th>1</th>\n",
       "      <td>https://www.cnbc.com/select/the-best-credit-ca...</td>\n",
       "      <td>The best credit cards for building credit of J...</td>\n",
       "      <td>The best credit cards for building credit of J...</td>\n",
       "      <td>2019-10-29T15:24:00.000Z</td>\n",
       "      <td>Benji Stawski,Alexandria White</td>\n",
       "      <td>We analyzed 29 credit cards that are marketed ...</td>\n",
       "      <td>Select: Credit Cards,Select_Monetized,Credit c...</td>\n",
       "      <td>If you lack a credit history or have poor cred...</td>\n",
       "    </tr>\n",
       "    <tr>\n",
       "      <th>2</th>\n",
       "      <td>https://www.cnbc.com/select/best-cash-back-cre...</td>\n",
       "      <td>The best cash-back credit cards of January 2024</td>\n",
       "      <td>The best cash-back credit cards of January 2024</td>\n",
       "      <td>2019-10-15T05:00:00.000Z</td>\n",
       "      <td>Alexandria White,Jason Stauffer</td>\n",
       "      <td>We analyzed 50 of the most popular cash-back c...</td>\n",
       "      <td>Select: Credit Cards,Consumer spending,Persona...</td>\n",
       "      <td>Who's this for? The Citi Double Cash® Card is ...</td>\n",
       "    </tr>\n",
       "  </tbody>\n",
       "</table>\n",
       "</div>"
      ],
      "text/plain": [
       "                                                 url  \\\n",
       "0  https://www.cnbc.com/select/best-balance-trans...   \n",
       "1  https://www.cnbc.com/select/the-best-credit-ca...   \n",
       "2  https://www.cnbc.com/select/best-cash-back-cre...   \n",
       "\n",
       "                                           softTitle  \\\n",
       "0  11 best balance transfer cards with 0% APR of ...   \n",
       "1  The best credit cards for building credit of J...   \n",
       "2    The best cash-back credit cards of January 2024   \n",
       "\n",
       "                                               title  \\\n",
       "0  11 best balance transfer cards with 0% APR of ...   \n",
       "1  The best credit cards for building credit of J...   \n",
       "2    The best cash-back credit cards of January 2024   \n",
       "\n",
       "                       date                           author  \\\n",
       "0  2019-10-15T05:00:00.000Z   Jason Stauffer,Brett Holzhauer   \n",
       "1  2019-10-29T15:24:00.000Z   Benji Stawski,Alexandria White   \n",
       "2  2019-10-15T05:00:00.000Z  Alexandria White,Jason Stauffer   \n",
       "\n",
       "                                         description  \\\n",
       "0  We analyzed 101 balance transfer cards using a...   \n",
       "1  We analyzed 29 credit cards that are marketed ...   \n",
       "2  We analyzed 50 of the most popular cash-back c...   \n",
       "\n",
       "                                            keywords  \\\n",
       "0  Approved for Apple,Select_Cards,Select_Monetiz...   \n",
       "1  Select: Credit Cards,Select_Monetized,Credit c...   \n",
       "2  Select: Credit Cards,Consumer spending,Persona...   \n",
       "\n",
       "                                                text  \n",
       "0  Who's this for: The Citi Simplicity® Card has ...  \n",
       "1  If you lack a credit history or have poor cred...  \n",
       "2  Who's this for? The Citi Double Cash® Card is ...  "
      ]
     },
     "execution_count": 57,
     "metadata": {},
     "output_type": "execute_result"
    }
   ],
   "source": [
    "start_date = '2010-01-01'\n",
    "end_date = '2024-01-01'\n",
    "df_text = df_text[(df_text['date'] >= start_date) & (df_text['date'] <= end_date)]\n",
    "df_text.head(3)"
   ]
  },
  {
   "cell_type": "code",
   "execution_count": 58,
   "metadata": {},
   "outputs": [
    {
     "name": "stdout",
     "output_type": "stream",
     "text": [
      "<class 'pandas.core.frame.DataFrame'>\n",
      "Int64Index: 9770 entries, 0 to 10002\n",
      "Data columns (total 8 columns):\n",
      " #   Column       Non-Null Count  Dtype \n",
      "---  ------       --------------  ----- \n",
      " 0   url          9770 non-null   object\n",
      " 1   softTitle    9770 non-null   object\n",
      " 2   title        9770 non-null   object\n",
      " 3   date         9770 non-null   object\n",
      " 4   author       9565 non-null   object\n",
      " 5   description  9746 non-null   object\n",
      " 6   keywords     9362 non-null   object\n",
      " 7   text         9770 non-null   object\n",
      "dtypes: object(8)\n",
      "memory usage: 687.0+ KB\n"
     ]
    }
   ],
   "source": [
    "df_text.info()"
   ]
  },
  {
   "cell_type": "code",
   "execution_count": 59,
   "metadata": {},
   "outputs": [
    {
     "data": {
      "text/plain": [
       "url              0\n",
       "softTitle        0\n",
       "title            0\n",
       "date             0\n",
       "author         205\n",
       "description     24\n",
       "keywords       408\n",
       "text             0\n",
       "dtype: int64"
      ]
     },
     "execution_count": 59,
     "metadata": {},
     "output_type": "execute_result"
    }
   ],
   "source": [
    "df_text.isnull().sum()"
   ]
  },
  {
   "cell_type": "code",
   "execution_count": 60,
   "metadata": {},
   "outputs": [
    {
     "data": {
      "text/plain": [
       "2010       1\n",
       "2011       3\n",
       "2012       5\n",
       "2013       5\n",
       "2014       4\n",
       "2015      46\n",
       "2016     142\n",
       "2017     231\n",
       "2018     396\n",
       "2019     658\n",
       "2020    1243\n",
       "2021    1364\n",
       "2022    2192\n",
       "2023    3480\n",
       "Name: date, dtype: int64"
      ]
     },
     "execution_count": 60,
     "metadata": {},
     "output_type": "execute_result"
    }
   ],
   "source": [
    "# Convert date strings to datetime objects\n",
    "df_text['date'] = pd.to_datetime(df_text['date'])\n",
    "\n",
    "# Extract the year from the date and count the number of articles per year\n",
    "articles_per_year = df_text['date'].dt.year.value_counts().sort_index()\n",
    "articles_per_year"
   ]
  },
  {
   "cell_type": "markdown",
   "metadata": {},
   "source": [
    "Every spike shows that there was a significant  world event"
   ]
  },
  {
   "cell_type": "markdown",
   "metadata": {},
   "source": [
    "#### Sentiment Distribution"
   ]
  },
  {
   "cell_type": "code",
   "execution_count": 70,
   "metadata": {},
   "outputs": [
    {
     "name": "stderr",
     "output_type": "stream",
     "text": [
      "[nltk_data] Downloading package vader_lexicon to C:\\Users\\Ethan Vaz\n",
      "[nltk_data]     Falcao\\AppData\\Roaming\\nltk_data...\n",
      "[nltk_data]   Package vader_lexicon is already up-to-date!\n"
     ]
    },
    {
     "data": {
      "text/plain": [
       "Positive    5363\n",
       "Neutral     2233\n",
       "Negative    2174\n",
       "Name: Overall Sentiment, dtype: int64"
      ]
     },
     "execution_count": 70,
     "metadata": {},
     "output_type": "execute_result"
    }
   ],
   "source": [
    "# Import necessary libraries\n",
    "from nltk.sentiment.vader import SentimentIntensityAnalyzer\n",
    "import nltk\n",
    "\n",
    "# Download VADER lexicon for sentiment analysis\n",
    "nltk.download('vader_lexicon')\n",
    "\n",
    "# Initialize VADER sentiment intensity analyzer\n",
    "sia = SentimentIntensityAnalyzer()\n",
    "\n",
    "# Ensure there are no NaN values in the 'description' column for sentiment analysis\n",
    "df_text['description'] = df_text['description'].fillna(\"\")\n",
    "\n",
    "# Apply VADER to analyze sentiment of each article's description\n",
    "df_text['Sentiment Scores'] = df_text['description'].apply(lambda x: sia.polarity_scores(x))\n",
    "\n",
    "# Extract compound scores to determine overall sentiment\n",
    "df_text['Compound Score'] = df_text['Sentiment Scores'].apply(lambda x: x['compound'])\n",
    "\n",
    "# Categorize overall sentiment based on compound score\n",
    "df_text['Overall Sentiment'] = df_text['Compound Score'].apply(lambda x: 'Positive' if x > 0.05 else ('Negative' if x < -0.05 else 'Neutral'))\n",
    "\n",
    "# Summary of sentiment distribution\n",
    "sentiment_distribution = df_text['Overall Sentiment'].value_counts()\n",
    "\n",
    "sentiment_distribution\n"
   ]
  },
  {
   "cell_type": "markdown",
   "metadata": {},
   "source": [
    "https://www.nltk.org/    read this "
   ]
  },
  {
   "cell_type": "code",
   "execution_count": 71,
   "metadata": {},
   "outputs": [
    {
     "data": {
      "image/png": "[encoded data removed]",
      "text/plain": [
       "<Figure size 432x432 with 1 Axes>"
      ]
     },
     "metadata": {},
     "output_type": "display_data"
    }
   ],
   "source": [
    "# Plot the sentiment distribution as a pie chart\n",
    "plt.figure(figsize=(6, 6))\n",
    "labels = sentiment_distribution.index\n",
    "sizes = sentiment_distribution.values\n",
    "colors = ['green', 'red', 'gray']  # You can choose different colors for the pie slices\n",
    "explode = (0.1, 0.1, 0.1)  # To explode the slices if needed\n",
    "\n",
    "plt.pie(sizes, explode=explode, labels=labels, colors=colors, autopct='%1.1f%%', shadow=True, startangle=140)\n",
    "plt.axis('equal')  # Equal aspect ratio ensures that pie is drawn as a circle.\n",
    "\n",
    "# Add a title\n",
    "plt.title(\"Sentiment Distribution\")\n",
    "\n",
    "# Display the pie chart\n",
    "plt.show()"
   ]
  },
  {
   "cell_type": "markdown",
   "metadata": {},
   "source": [
    "#### Sentiment Over Time"
   ]
  },
  {
   "cell_type": "markdown",
   "metadata": {},
   "source": [
    "* -1 indicates extremely negative sentiment.\n",
    "\n",
    "* 0 indicates neutral sentiment.\n",
    "\n",
    "* 1 indicates extremely positive sentiment."
   ]
  },
  {
   "cell_type": "code",
   "execution_count": 77,
   "metadata": {},
   "outputs": [
    {
     "name": "stderr",
     "output_type": "stream",
     "text": [
      "c:\\Users\\Ethan Vaz Falcao\\anaconda3\\lib\\site-packages\\pandas\\core\\arrays\\datetimes.py:1162: UserWarning: Converting to PeriodArray/Index representation will drop timezone information.\n",
      "  warnings.warn(\n"
     ]
    },
    {
     "data": {
      "image/png": "[encoded data removed]",
      "text/plain": [
       "<Figure size 720x432 with 1 Axes>"
      ]
     },
     "metadata": {
      "needs_background": "light"
     },
     "output_type": "display_data"
    }
   ],
   "source": [
    "# Create a month-year column for aggregation\n",
    "df_text['Month-Year'] = df_text['date'].dt.to_period('M')\n",
    "\n",
    "# Calculate the count of each sentiment category by month\n",
    "sentiment_over_time = df_text.groupby(['Month-Year', 'Overall Sentiment']).size().unstack(fill_value=0)\n",
    "\n",
    "sentiment_proportions = sentiment_over_time.div(sentiment_over_time.sum(axis=1), axis=0)\n",
    "\n",
    "import matplotlib.pyplot as plt\n",
    "\n",
    "sentiment_over_time.plot(kind='line', figsize=(10, 6))\n",
    "plt.title('Sentiment Count Over Time')\n",
    "plt.xlabel('Month-Year')\n",
    "plt.ylabel('Count')\n",
    "plt.legend(title='Sentiment')\n",
    "plt.xticks(rotation=45)\n",
    "plt.grid(True)\n",
    "plt.tight_layout()  # Adjust layout\n",
    "plt.show()\n",
    "\n"
   ]
  },
  {
   "cell_type": "code",
   "execution_count": 50,
   "metadata": {},
   "outputs": [
    {
     "name": "stdout",
     "output_type": "stream",
     "text": [
      "                                            description Overall Sentiment\n",
      "12    Making a lower down payment lets you put more ...          Negative\n",
      "14    Extra fees can really add up when it's time to...          Negative\n",
      "17    Identity theft protection services can alert y...          Negative\n",
      "54    Yes, you can pay off a personal loan early, bu...          Negative\n",
      "99    What is debt consolidation? Select defines deb...          Negative\n",
      "...                                                 ...               ...\n",
      "9984  Federal Chair Jerome Powell called for more vi...          Negative\n",
      "9985  Household debt for retirement-age Americans ha...          Negative\n",
      "9990  After more than a year of gloomy forecasts for...          Negative\n",
      "9992  Forecasts for a recession have turned to predi...          Negative\n",
      "9993  Housing supply is low, which is pushing prices...          Negative\n",
      "\n",
      "[2167 rows x 2 columns]\n"
     ]
    }
   ],
   "source": [
    "# Filter the DataFrame to only include rows where the Overall Sentiment is Negative\n",
    "negative_texts = df_text[df_text['Overall Sentiment'] == 'Negative']\n",
    "\n",
    "# Display the filtered rows\n",
    "print(negative_texts[['description', 'Overall Sentiment']])\n"
   ]
  },
  {
   "cell_type": "markdown",
   "metadata": {},
   "source": [
    "#### Outliers "
   ]
  },
  {
   "cell_type": "code",
   "execution_count": 90,
   "metadata": {},
   "outputs": [
    {
     "data": {
      "image/png": "[encoded data removed]",
      "text/plain": [
       "<Figure size 720x432 with 1 Axes>"
      ]
     },
     "metadata": {},
     "output_type": "display_data"
    }
   ],
   "source": [
    "import matplotlib.pyplot as plt\n",
    "import seaborn as sns\n",
    "\n",
    "# Set visualization style\n",
    "sns.set_style(\"whitegrid\")\n",
    "\n",
    "# Analyzing Article Length Outliers\n",
    "# Box plot for article length\n",
    "plt.figure(figsize=(10, 6))\n",
    "sns.boxplot(x=df_text['Article Length'])\n",
    "plt.title('Distribution of Article Lengths')\n",
    "plt.xlabel('Article Length (number of words)')\n",
    "plt.show()\n",
    "\n"
   ]
  },
  {
   "cell_type": "code",
   "execution_count": 92,
   "metadata": {},
   "outputs": [
    {
     "data": {
      "text/plain": [
       "(count    1018.000000\n",
       " mean        9.395874\n",
       " std        33.488363\n",
       " min         1.000000\n",
       " 25%         1.000000\n",
       " 50%         1.000000\n",
       " 75%         3.000000\n",
       " max       361.000000\n",
       " Name: author, dtype: float64,\n",
       " 205)"
      ]
     },
     "execution_count": 92,
     "metadata": {},
     "output_type": "execute_result"
    }
   ],
   "source": [
    "# Check the correct author column name and process accordingly\n",
    "if 'author' in df_text.columns:\n",
    "    # Count the number of articles by each author\n",
    "    author_distribution = df_text['author'].value_counts()\n",
    "\n",
    "    # Identify articles with missing author information\n",
    "    missing_authors = df_text[df_text['author'].isna()]\n",
    "\n",
    "    # Summary of author distribution and count of articles with missing authors\n",
    "    author_distribution_summary = author_distribution.describe()\n",
    "    missing_authors_count = missing_authors.shape[0]\n",
    "else:\n",
    "    # If the 'author' column does not exist, set default values to indicate the issue\n",
    "    author_distribution_summary = \"Author column not found.\"\n",
    "    missing_authors_count = \"Author column not found.\"\n",
    "\n",
    "author_distribution_summary, missing_authors_count"
   ]
  },
  {
   "cell_type": "markdown",
   "metadata": {},
   "source": [
    "#### Preparation for Sentiment Analysis"
   ]
  },
  {
   "cell_type": "markdown",
   "metadata": {},
   "source": [
    "1. Lowercasing.\n",
    "\n",
    "2. Tokenization\n",
    "\n",
    "3. Stop Word Removal\n",
    "\n",
    "4. Lemmatization\n",
    "5. Removing Special Characters and Numbers\n",
    "\n",
    "6. Handling Negations"
   ]
  },
  {
   "cell_type": "code",
   "execution_count": 96,
   "metadata": {},
   "outputs": [
    {
     "name": "stderr",
     "output_type": "stream",
     "text": [
      "[nltk_data] Downloading package omw-1.4 to C:\\Users\\Ethan Vaz\n",
      "[nltk_data]     Falcao\\AppData\\Roaming\\nltk_data...\n",
      "[nltk_data] Downloading package punkt to C:\\Users\\Ethan Vaz\n",
      "[nltk_data]     Falcao\\AppData\\Roaming\\nltk_data...\n",
      "[nltk_data]   Package punkt is already up-to-date!\n",
      "[nltk_data] Downloading package stopwords to C:\\Users\\Ethan Vaz\n",
      "[nltk_data]     Falcao\\AppData\\Roaming\\nltk_data...\n",
      "[nltk_data]   Package stopwords is already up-to-date!\n",
      "[nltk_data] Downloading package wordnet to C:\\Users\\Ethan Vaz\n",
      "[nltk_data]     Falcao\\AppData\\Roaming\\nltk_data...\n",
      "[nltk_data]   Package wordnet is already up-to-date!\n"
     ]
    },
    {
     "data": {
      "text/html": [
       "<div>\n",
       "<style scoped>\n",
       "    .dataframe tbody tr th:only-of-type {\n",
       "        vertical-align: middle;\n",
       "    }\n",
       "\n",
       "    .dataframe tbody tr th {\n",
       "        vertical-align: top;\n",
       "    }\n",
       "\n",
       "    .dataframe thead th {\n",
       "        text-align: right;\n",
       "    }\n",
       "</style>\n",
       "<table border=\"1\" class=\"dataframe\">\n",
       "  <thead>\n",
       "    <tr style=\"text-align: right;\">\n",
       "      <th></th>\n",
       "      <th>description</th>\n",
       "      <th>Processed Description</th>\n",
       "    </tr>\n",
       "  </thead>\n",
       "  <tbody>\n",
       "    <tr>\n",
       "      <th>0</th>\n",
       "      <td>We analyzed 101 balance transfer cards using a...</td>\n",
       "      <td>analyzed balance transfer card using average a...</td>\n",
       "    </tr>\n",
       "    <tr>\n",
       "      <th>1</th>\n",
       "      <td>We analyzed 29 credit cards that are marketed ...</td>\n",
       "      <td>analyzed credit card marketed toward consumer ...</td>\n",
       "    </tr>\n",
       "    <tr>\n",
       "      <th>2</th>\n",
       "      <td>We analyzed 50 of the most popular cash-back c...</td>\n",
       "      <td>analyzed popular cash back credit card using a...</td>\n",
       "    </tr>\n",
       "    <tr>\n",
       "      <th>3</th>\n",
       "      <td>Select analyzed key factors like interest rate...</td>\n",
       "      <td>select analyzed key factor like interest rate ...</td>\n",
       "    </tr>\n",
       "    <tr>\n",
       "      <th>4</th>\n",
       "      <td>We analyzed the most popular credit cards avai...</td>\n",
       "      <td>analyzed popular credit card available u open ...</td>\n",
       "    </tr>\n",
       "  </tbody>\n",
       "</table>\n",
       "</div>"
      ],
      "text/plain": [
       "                                         description  \\\n",
       "0  We analyzed 101 balance transfer cards using a...   \n",
       "1  We analyzed 29 credit cards that are marketed ...   \n",
       "2  We analyzed 50 of the most popular cash-back c...   \n",
       "3  Select analyzed key factors like interest rate...   \n",
       "4  We analyzed the most popular credit cards avai...   \n",
       "\n",
       "                               Processed Description  \n",
       "0  analyzed balance transfer card using average a...  \n",
       "1  analyzed credit card marketed toward consumer ...  \n",
       "2  analyzed popular cash back credit card using a...  \n",
       "3  select analyzed key factor like interest rate ...  \n",
       "4  analyzed popular credit card available u open ...  "
      ]
     },
     "execution_count": 96,
     "metadata": {},
     "output_type": "execute_result"
    }
   ],
   "source": [
    "import nltk\n",
    "from nltk.corpus import stopwords\n",
    "from nltk.tokenize import word_tokenize\n",
    "from nltk.stem import WordNetLemmatizer\n",
    "nltk.download('omw-1.4')\n",
    "import re\n",
    "\n",
    "# Download necessary NLTK data\n",
    "nltk.download('punkt')\n",
    "nltk.download('stopwords')\n",
    "nltk.download('wordnet')\n",
    "\n",
    "# Initialize the lemmatizer\n",
    "lemmatizer = WordNetLemmatizer()\n",
    "\n",
    "# Define a function for the preprocessing steps\n",
    "def preprocess_text(text):\n",
    "    # Convert text to lowercase\n",
    "    text = text.lower()\n",
    "    \n",
    "    # Remove special characters and numbers\n",
    "    text = re.sub(r'\\W+|\\d+', ' ', text)\n",
    "    \n",
    "    # Tokenize text\n",
    "    tokens = word_tokenize(text)\n",
    "    \n",
    "    # Remove stopwords\n",
    "    stop_words = set(stopwords.words('english'))\n",
    "    filtered_tokens = [word for word in tokens if word not in stop_words]\n",
    "    \n",
    "    # Lemmatize tokens\n",
    "    lemmatized_tokens = [lemmatizer.lemmatize(token) for token in filtered_tokens]\n",
    "    \n",
    "    # Handling negations could be more complex and context-specific, not covered here\n",
    "    \n",
    "    return ' '.join(lemmatized_tokens)\n",
    "\n",
    "# Apply preprocessing to a sample of the text data\n",
    "df_text['Processed Description'] = df_text['description'].apply(lambda x: preprocess_text(str(x)))\n",
    "\n",
    "# Display the original and processed text for comparison\n",
    "df_text[['description', 'Processed Description']].head()\n"
   ]
  },
  {
   "cell_type": "code",
   "execution_count": 97,
   "metadata": {},
   "outputs": [
    {
     "data": {
      "text/html": [
       "<div>\n",
       "<style scoped>\n",
       "    .dataframe tbody tr th:only-of-type {\n",
       "        vertical-align: middle;\n",
       "    }\n",
       "\n",
       "    .dataframe tbody tr th {\n",
       "        vertical-align: top;\n",
       "    }\n",
       "\n",
       "    .dataframe thead th {\n",
       "        text-align: right;\n",
       "    }\n",
       "</style>\n",
       "<table border=\"1\" class=\"dataframe\">\n",
       "  <thead>\n",
       "    <tr style=\"text-align: right;\">\n",
       "      <th></th>\n",
       "      <th>url</th>\n",
       "      <th>softTitle</th>\n",
       "      <th>title</th>\n",
       "      <th>date</th>\n",
       "      <th>author</th>\n",
       "      <th>description</th>\n",
       "      <th>keywords</th>\n",
       "      <th>text</th>\n",
       "      <th>Article Length</th>\n",
       "      <th>Combined Authors</th>\n",
       "      <th>Sentiment Scores</th>\n",
       "      <th>Compound Score</th>\n",
       "      <th>Overall Sentiment</th>\n",
       "      <th>Month-Year</th>\n",
       "      <th>Sentiment Score</th>\n",
       "      <th>Processed Description</th>\n",
       "    </tr>\n",
       "  </thead>\n",
       "  <tbody>\n",
       "    <tr>\n",
       "      <th>0</th>\n",
       "      <td>https://www.cnbc.com/select/best-balance-trans...</td>\n",
       "      <td>11 best balance transfer cards with 0% APR of ...</td>\n",
       "      <td>11 best balance transfer cards with 0% APR of ...</td>\n",
       "      <td>2019-10-15 05:00:00+00:00</td>\n",
       "      <td>Jason Stauffer,Brett Holzhauer</td>\n",
       "      <td>We analyzed 101 balance transfer cards using a...</td>\n",
       "      <td>Approved for Apple,Select_Cards,Select_Monetiz...</td>\n",
       "      <td>Who's this for: The Citi Simplicity® Card has ...</td>\n",
       "      <td>1133</td>\n",
       "      <td>Jason Stauffer,Brett Holzhauer</td>\n",
       "      <td>{'neg': 0.069, 'neu': 0.744, 'pos': 0.187, 'co...</td>\n",
       "      <td>0.6486</td>\n",
       "      <td>Positive</td>\n",
       "      <td>2019-10</td>\n",
       "      <td>0.9995</td>\n",
       "      <td>analyzed balance transfer card using average a...</td>\n",
       "    </tr>\n",
       "    <tr>\n",
       "      <th>1</th>\n",
       "      <td>https://www.cnbc.com/select/the-best-credit-ca...</td>\n",
       "      <td>The best credit cards for building credit of J...</td>\n",
       "      <td>The best credit cards for building credit of J...</td>\n",
       "      <td>2019-10-29 15:24:00+00:00</td>\n",
       "      <td>Benji Stawski,Alexandria White</td>\n",
       "      <td>We analyzed 29 credit cards that are marketed ...</td>\n",
       "      <td>Select: Credit Cards,Select_Monetized,Credit c...</td>\n",
       "      <td>If you lack a credit history or have poor cred...</td>\n",
       "      <td>1468</td>\n",
       "      <td>Benji Stawski,Alexandria White</td>\n",
       "      <td>{'neg': 0.06, 'neu': 0.544, 'pos': 0.396, 'com...</td>\n",
       "      <td>0.9072</td>\n",
       "      <td>Positive</td>\n",
       "      <td>2019-10</td>\n",
       "      <td>0.9999</td>\n",
       "      <td>analyzed credit card marketed toward consumer ...</td>\n",
       "    </tr>\n",
       "    <tr>\n",
       "      <th>2</th>\n",
       "      <td>https://www.cnbc.com/select/best-cash-back-cre...</td>\n",
       "      <td>The best cash-back credit cards of January 2024</td>\n",
       "      <td>The best cash-back credit cards of January 2024</td>\n",
       "      <td>2019-10-15 05:00:00+00:00</td>\n",
       "      <td>Alexandria White,Jason Stauffer</td>\n",
       "      <td>We analyzed 50 of the most popular cash-back c...</td>\n",
       "      <td>Select: Credit Cards,Consumer spending,Persona...</td>\n",
       "      <td>Who's this for? The Citi Double Cash® Card is ...</td>\n",
       "      <td>1598</td>\n",
       "      <td>Alexandria White,Jason Stauffer</td>\n",
       "      <td>{'neg': 0.0, 'neu': 0.69, 'pos': 0.31, 'compou...</td>\n",
       "      <td>0.9366</td>\n",
       "      <td>Positive</td>\n",
       "      <td>2019-10</td>\n",
       "      <td>0.9998</td>\n",
       "      <td>analyzed popular cash back credit card using a...</td>\n",
       "    </tr>\n",
       "    <tr>\n",
       "      <th>3</th>\n",
       "      <td>https://www.cnbc.com/select/personal-loan-lend...</td>\n",
       "      <td>Do you need a large personal loan? These lende...</td>\n",
       "      <td>Do you need a large personal loan? These lende...</td>\n",
       "      <td>2022-05-06 19:12:25+00:00</td>\n",
       "      <td>Jasmin Suknanan</td>\n",
       "      <td>Select analyzed key factors like interest rate...</td>\n",
       "      <td>Select_Monetized,Consumer spending,Personal fi...</td>\n",
       "      <td>Personal loans are a common way to pay for lar...</td>\n",
       "      <td>1035</td>\n",
       "      <td>Jasmin Suknanan</td>\n",
       "      <td>{'neg': 0.0, 'neu': 0.686, 'pos': 0.314, 'comp...</td>\n",
       "      <td>0.6705</td>\n",
       "      <td>Positive</td>\n",
       "      <td>2022-05</td>\n",
       "      <td>0.9981</td>\n",
       "      <td>select analyzed key factor like interest rate ...</td>\n",
       "    </tr>\n",
       "    <tr>\n",
       "      <th>4</th>\n",
       "      <td>https://www.cnbc.com/select/best-credit-card-s...</td>\n",
       "      <td>The best credit card sign-up bonuses of Januar...</td>\n",
       "      <td>The best credit card sign-up bonuses of Januar...</td>\n",
       "      <td>2019-11-12 19:30:46+00:00</td>\n",
       "      <td>Elizabeth Gravier,Alexandria White</td>\n",
       "      <td>We analyzed the most popular credit cards avai...</td>\n",
       "      <td>Select: Credit Cards,Consumer spending,Persona...</td>\n",
       "      <td>Terms apply to American Express benefits and o...</td>\n",
       "      <td>1848</td>\n",
       "      <td>Elizabeth Gravier,Alexandria White</td>\n",
       "      <td>{'neg': 0.0, 'neu': 0.554, 'pos': 0.446, 'comp...</td>\n",
       "      <td>0.9681</td>\n",
       "      <td>Positive</td>\n",
       "      <td>2019-11</td>\n",
       "      <td>0.9999</td>\n",
       "      <td>analyzed popular credit card available u open ...</td>\n",
       "    </tr>\n",
       "    <tr>\n",
       "      <th>...</th>\n",
       "      <td>...</td>\n",
       "      <td>...</td>\n",
       "      <td>...</td>\n",
       "      <td>...</td>\n",
       "      <td>...</td>\n",
       "      <td>...</td>\n",
       "      <td>...</td>\n",
       "      <td>...</td>\n",
       "      <td>...</td>\n",
       "      <td>...</td>\n",
       "      <td>...</td>\n",
       "      <td>...</td>\n",
       "      <td>...</td>\n",
       "      <td>...</td>\n",
       "      <td>...</td>\n",
       "      <td>...</td>\n",
       "    </tr>\n",
       "    <tr>\n",
       "      <th>9998</th>\n",
       "      <td>https://www.cnbc.com/2023/08/14/prepare-for-vo...</td>\n",
       "      <td>Don’t be ‘complacent’ about volatility, warns ...</td>\n",
       "      <td>Don’t be ‘complacent’ about volatility, warns ...</td>\n",
       "      <td>2023-08-14 16:33:35+00:00</td>\n",
       "      <td>Kate Dore, CFP®</td>\n",
       "      <td>Even if there's a soft landing for the economy...</td>\n",
       "      <td>Financial consulting,Personal finance,Breaking...</td>\n",
       "      <td>Glassman said it's possible the soft landing m...</td>\n",
       "      <td>256</td>\n",
       "      <td>Kate Dore, CFP®</td>\n",
       "      <td>{'neg': 0.0, 'neu': 1.0, 'pos': 0.0, 'compound...</td>\n",
       "      <td>0.0000</td>\n",
       "      <td>Neutral</td>\n",
       "      <td>2023-08</td>\n",
       "      <td>0.9576</td>\n",
       "      <td>even soft landing economy investor still prepa...</td>\n",
       "    </tr>\n",
       "    <tr>\n",
       "      <th>9999</th>\n",
       "      <td>https://www.cnbc.com/2021/11/20/4-year-end-mov...</td>\n",
       "      <td>4 year-end moves to slash your cryptocurrency ...</td>\n",
       "      <td>4 year-end moves to slash your cryptocurrency ...</td>\n",
       "      <td>2021-11-20 14:00:01+00:00</td>\n",
       "      <td>Kate Dore, CFP®</td>\n",
       "      <td>As the year end approaches, there are still wa...</td>\n",
       "      <td>Personal taxes,United States House of Represen...</td>\n",
       "      <td>One of the biggest challenges for cryptocurren...</td>\n",
       "      <td>542</td>\n",
       "      <td>Kate Dore, CFP®</td>\n",
       "      <td>{'neg': 0.0, 'neu': 1.0, 'pos': 0.0, 'compound...</td>\n",
       "      <td>0.0000</td>\n",
       "      <td>Neutral</td>\n",
       "      <td>2021-11</td>\n",
       "      <td>0.9898</td>\n",
       "      <td>year end approach still way reduce cryptocurre...</td>\n",
       "    </tr>\n",
       "    <tr>\n",
       "      <th>10000</th>\n",
       "      <td>https://www.cnbc.com/2021/10/29/build-back-bet...</td>\n",
       "      <td>Build Back Better Act would close tax loophole...</td>\n",
       "      <td>Build Back Better Act would close tax loophole...</td>\n",
       "      <td>2021-10-29 16:37:29+00:00</td>\n",
       "      <td>Greg Iacurci</td>\n",
       "      <td>Bitcoin, ethereum, dogecoin and other cryptocu...</td>\n",
       "      <td>Joe Biden,Congress,Legislation,Politics,Social...</td>\n",
       "      <td>Proposed legislation unveiled Thursday as part...</td>\n",
       "      <td>222</td>\n",
       "      <td>Greg Iacurci</td>\n",
       "      <td>{'neg': 0.0, 'neu': 0.868, 'pos': 0.132, 'comp...</td>\n",
       "      <td>0.4939</td>\n",
       "      <td>Positive</td>\n",
       "      <td>2021-10</td>\n",
       "      <td>0.9471</td>\n",
       "      <td>bitcoin ethereum dogecoin cryptocurrency trans...</td>\n",
       "    </tr>\n",
       "    <tr>\n",
       "      <th>10001</th>\n",
       "      <td>https://www.cnbc.com/2021/11/22/how-to-maximiz...</td>\n",
       "      <td>How to maximize year-end tax planning after a ...</td>\n",
       "      <td>How to maximize year-end tax planning after a ...</td>\n",
       "      <td>2021-11-22 13:00:01+00:00</td>\n",
       "      <td>Kate Dore, CFP®</td>\n",
       "      <td>Whether you’re grappling with a job loss or ju...</td>\n",
       "      <td>Jobs,Baby Boomers,U.S. Economy,Social issues,P...</td>\n",
       "      <td>Someone leaving the workforce through retireme...</td>\n",
       "      <td>345</td>\n",
       "      <td>Kate Dore, CFP®</td>\n",
       "      <td>{'neg': 0.086, 'neu': 0.818, 'pos': 0.097, 'co...</td>\n",
       "      <td>0.0772</td>\n",
       "      <td>Positive</td>\n",
       "      <td>2021-11</td>\n",
       "      <td>0.9861</td>\n",
       "      <td>whether grappling job loss jumping retirement ...</td>\n",
       "    </tr>\n",
       "    <tr>\n",
       "      <th>10002</th>\n",
       "      <td>https://www.cnbc.com/2021/11/16/financial-advi...</td>\n",
       "      <td>Financial advisors struggle with putting their...</td>\n",
       "      <td>Financial advisors struggle with putting their...</td>\n",
       "      <td>2021-11-16 13:30:01+00:00</td>\n",
       "      <td>Annie Nova</td>\n",
       "      <td>To invest or not to invest in cryptocurrencies...</td>\n",
       "      <td>Media,Internet,Cybersecurity,Politics,Investme...</td>\n",
       "      <td>Around five years ago, financial advisor Micha...</td>\n",
       "      <td>294</td>\n",
       "      <td>Annie Nova</td>\n",
       "      <td>{'neg': 0.061, 'neu': 0.881, 'pos': 0.058, 'co...</td>\n",
       "      <td>-0.0258</td>\n",
       "      <td>Neutral</td>\n",
       "      <td>2021-11</td>\n",
       "      <td>0.9666</td>\n",
       "      <td>invest invest cryptocurrencies financial advis...</td>\n",
       "    </tr>\n",
       "  </tbody>\n",
       "</table>\n",
       "<p>9770 rows × 16 columns</p>\n",
       "</div>"
      ],
      "text/plain": [
       "                                                     url  \\\n",
       "0      https://www.cnbc.com/select/best-balance-trans...   \n",
       "1      https://www.cnbc.com/select/the-best-credit-ca...   \n",
       "2      https://www.cnbc.com/select/best-cash-back-cre...   \n",
       "3      https://www.cnbc.com/select/personal-loan-lend...   \n",
       "4      https://www.cnbc.com/select/best-credit-card-s...   \n",
       "...                                                  ...   \n",
       "9998   https://www.cnbc.com/2023/08/14/prepare-for-vo...   \n",
       "9999   https://www.cnbc.com/2021/11/20/4-year-end-mov...   \n",
       "10000  https://www.cnbc.com/2021/10/29/build-back-bet...   \n",
       "10001  https://www.cnbc.com/2021/11/22/how-to-maximiz...   \n",
       "10002  https://www.cnbc.com/2021/11/16/financial-advi...   \n",
       "\n",
       "                                               softTitle  \\\n",
       "0      11 best balance transfer cards with 0% APR of ...   \n",
       "1      The best credit cards for building credit of J...   \n",
       "2        The best cash-back credit cards of January 2024   \n",
       "3      Do you need a large personal loan? These lende...   \n",
       "4      The best credit card sign-up bonuses of Januar...   \n",
       "...                                                  ...   \n",
       "9998   Don’t be ‘complacent’ about volatility, warns ...   \n",
       "9999   4 year-end moves to slash your cryptocurrency ...   \n",
       "10000  Build Back Better Act would close tax loophole...   \n",
       "10001  How to maximize year-end tax planning after a ...   \n",
       "10002  Financial advisors struggle with putting their...   \n",
       "\n",
       "                                                   title  \\\n",
       "0      11 best balance transfer cards with 0% APR of ...   \n",
       "1      The best credit cards for building credit of J...   \n",
       "2        The best cash-back credit cards of January 2024   \n",
       "3      Do you need a large personal loan? These lende...   \n",
       "4      The best credit card sign-up bonuses of Januar...   \n",
       "...                                                  ...   \n",
       "9998   Don’t be ‘complacent’ about volatility, warns ...   \n",
       "9999   4 year-end moves to slash your cryptocurrency ...   \n",
       "10000  Build Back Better Act would close tax loophole...   \n",
       "10001  How to maximize year-end tax planning after a ...   \n",
       "10002  Financial advisors struggle with putting their...   \n",
       "\n",
       "                           date                              author  \\\n",
       "0     2019-10-15 05:00:00+00:00      Jason Stauffer,Brett Holzhauer   \n",
       "1     2019-10-29 15:24:00+00:00      Benji Stawski,Alexandria White   \n",
       "2     2019-10-15 05:00:00+00:00     Alexandria White,Jason Stauffer   \n",
       "3     2022-05-06 19:12:25+00:00                     Jasmin Suknanan   \n",
       "4     2019-11-12 19:30:46+00:00  Elizabeth Gravier,Alexandria White   \n",
       "...                         ...                                 ...   \n",
       "9998  2023-08-14 16:33:35+00:00                     Kate Dore, CFP®   \n",
       "9999  2021-11-20 14:00:01+00:00                     Kate Dore, CFP®   \n",
       "10000 2021-10-29 16:37:29+00:00                        Greg Iacurci   \n",
       "10001 2021-11-22 13:00:01+00:00                     Kate Dore, CFP®   \n",
       "10002 2021-11-16 13:30:01+00:00                          Annie Nova   \n",
       "\n",
       "                                             description  \\\n",
       "0      We analyzed 101 balance transfer cards using a...   \n",
       "1      We analyzed 29 credit cards that are marketed ...   \n",
       "2      We analyzed 50 of the most popular cash-back c...   \n",
       "3      Select analyzed key factors like interest rate...   \n",
       "4      We analyzed the most popular credit cards avai...   \n",
       "...                                                  ...   \n",
       "9998   Even if there's a soft landing for the economy...   \n",
       "9999   As the year end approaches, there are still wa...   \n",
       "10000  Bitcoin, ethereum, dogecoin and other cryptocu...   \n",
       "10001  Whether you’re grappling with a job loss or ju...   \n",
       "10002  To invest or not to invest in cryptocurrencies...   \n",
       "\n",
       "                                                keywords  \\\n",
       "0      Approved for Apple,Select_Cards,Select_Monetiz...   \n",
       "1      Select: Credit Cards,Select_Monetized,Credit c...   \n",
       "2      Select: Credit Cards,Consumer spending,Persona...   \n",
       "3      Select_Monetized,Consumer spending,Personal fi...   \n",
       "4      Select: Credit Cards,Consumer spending,Persona...   \n",
       "...                                                  ...   \n",
       "9998   Financial consulting,Personal finance,Breaking...   \n",
       "9999   Personal taxes,United States House of Represen...   \n",
       "10000  Joe Biden,Congress,Legislation,Politics,Social...   \n",
       "10001  Jobs,Baby Boomers,U.S. Economy,Social issues,P...   \n",
       "10002  Media,Internet,Cybersecurity,Politics,Investme...   \n",
       "\n",
       "                                                    text  Article Length  \\\n",
       "0      Who's this for: The Citi Simplicity® Card has ...            1133   \n",
       "1      If you lack a credit history or have poor cred...            1468   \n",
       "2      Who's this for? The Citi Double Cash® Card is ...            1598   \n",
       "3      Personal loans are a common way to pay for lar...            1035   \n",
       "4      Terms apply to American Express benefits and o...            1848   \n",
       "...                                                  ...             ...   \n",
       "9998   Glassman said it's possible the soft landing m...             256   \n",
       "9999   One of the biggest challenges for cryptocurren...             542   \n",
       "10000  Proposed legislation unveiled Thursday as part...             222   \n",
       "10001  Someone leaving the workforce through retireme...             345   \n",
       "10002  Around five years ago, financial advisor Micha...             294   \n",
       "\n",
       "                         Combined Authors  \\\n",
       "0          Jason Stauffer,Brett Holzhauer   \n",
       "1          Benji Stawski,Alexandria White   \n",
       "2         Alexandria White,Jason Stauffer   \n",
       "3                         Jasmin Suknanan   \n",
       "4      Elizabeth Gravier,Alexandria White   \n",
       "...                                   ...   \n",
       "9998                      Kate Dore, CFP®   \n",
       "9999                      Kate Dore, CFP®   \n",
       "10000                        Greg Iacurci   \n",
       "10001                     Kate Dore, CFP®   \n",
       "10002                          Annie Nova   \n",
       "\n",
       "                                        Sentiment Scores  Compound Score  \\\n",
       "0      {'neg': 0.069, 'neu': 0.744, 'pos': 0.187, 'co...          0.6486   \n",
       "1      {'neg': 0.06, 'neu': 0.544, 'pos': 0.396, 'com...          0.9072   \n",
       "2      {'neg': 0.0, 'neu': 0.69, 'pos': 0.31, 'compou...          0.9366   \n",
       "3      {'neg': 0.0, 'neu': 0.686, 'pos': 0.314, 'comp...          0.6705   \n",
       "4      {'neg': 0.0, 'neu': 0.554, 'pos': 0.446, 'comp...          0.9681   \n",
       "...                                                  ...             ...   \n",
       "9998   {'neg': 0.0, 'neu': 1.0, 'pos': 0.0, 'compound...          0.0000   \n",
       "9999   {'neg': 0.0, 'neu': 1.0, 'pos': 0.0, 'compound...          0.0000   \n",
       "10000  {'neg': 0.0, 'neu': 0.868, 'pos': 0.132, 'comp...          0.4939   \n",
       "10001  {'neg': 0.086, 'neu': 0.818, 'pos': 0.097, 'co...          0.0772   \n",
       "10002  {'neg': 0.061, 'neu': 0.881, 'pos': 0.058, 'co...         -0.0258   \n",
       "\n",
       "      Overall Sentiment Month-Year  Sentiment Score  \\\n",
       "0              Positive    2019-10           0.9995   \n",
       "1              Positive    2019-10           0.9999   \n",
       "2              Positive    2019-10           0.9998   \n",
       "3              Positive    2022-05           0.9981   \n",
       "4              Positive    2019-11           0.9999   \n",
       "...                 ...        ...              ...   \n",
       "9998            Neutral    2023-08           0.9576   \n",
       "9999            Neutral    2021-11           0.9898   \n",
       "10000          Positive    2021-10           0.9471   \n",
       "10001          Positive    2021-11           0.9861   \n",
       "10002           Neutral    2021-11           0.9666   \n",
       "\n",
       "                                   Processed Description  \n",
       "0      analyzed balance transfer card using average a...  \n",
       "1      analyzed credit card marketed toward consumer ...  \n",
       "2      analyzed popular cash back credit card using a...  \n",
       "3      select analyzed key factor like interest rate ...  \n",
       "4      analyzed popular credit card available u open ...  \n",
       "...                                                  ...  \n",
       "9998   even soft landing economy investor still prepa...  \n",
       "9999   year end approach still way reduce cryptocurre...  \n",
       "10000  bitcoin ethereum dogecoin cryptocurrency trans...  \n",
       "10001  whether grappling job loss jumping retirement ...  \n",
       "10002  invest invest cryptocurrencies financial advis...  \n",
       "\n",
       "[9770 rows x 16 columns]"
      ]
     },
     "execution_count": 97,
     "metadata": {},
     "output_type": "execute_result"
    }
   ],
   "source": [
    "df_text"
   ]
  },
  {
   "cell_type": "code",
   "execution_count": 99,
   "metadata": {},
   "outputs": [],
   "source": [
    "df_text.to_csv('data/textual/df_text_Sentiment.csv')"
   ]
  }
 ],
 "metadata": {
  "kernelspec": {
   "display_name": "Python 3",
   "language": "python",
   "name": "python3"
  },
  "language_info": {
   "codemirror_mode": {
    "name": "ipython",
    "version": 3
   },
   "file_extension": ".py",
   "mimetype": "text/x-python",
   "name": "python",
   "nbconvert_exporter": "python",
   "pygments_lexer": "ipython3",
   "version": "3.9.12"
  }
 },
 "nbformat": 4,
 "nbformat_minor": 2
}
