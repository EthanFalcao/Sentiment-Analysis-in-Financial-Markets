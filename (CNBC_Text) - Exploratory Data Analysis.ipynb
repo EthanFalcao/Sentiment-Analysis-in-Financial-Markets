{
 "cells": [
  {
   "cell_type": "markdown",
   "metadata": {},
   "source": [
    "## Sentiment Analysis in Financial Markets\n",
    "### Exploratory Data Analysis"
   ]
  },
  {
   "cell_type": "markdown",
   "metadata": {},
   "source": [
    "Analyze news articles, financial reports, or social media to gauge market sentiment. This project would involve natural language processing (NLP) techniques to understand how sentiment affects stock prices."
   ]
  },
  {
   "cell_type": "markdown",
   "metadata": {},
   "source": [
    "### Stocks to focus on \n",
    "\n",
    "- Tesla (Tsla)\n",
    "\n",
    "- Apple Inc. (AAPL)\n",
    "\n",
    "- Amazon.com Inc. (AMZN)\n",
    "\n",
    "- Alphabet Inc. (GOOGL)\n",
    "\n",
    "- Microsoft Corporation (MSFT)\n",
    "\n",
    "- Facebook, Inc. (META)\n",
    "\n",
    "- JPMorgan Chase & Co. (JPM)\n",
    "\n",
    "- NVIDIA Corporation (NVDA)\n"
   ]
  },
  {
   "cell_type": "markdown",
   "metadata": {},
   "source": [
    "### Textual data"
   ]
  },
  {
   "cell_type": "code",
   "execution_count": 1,
   "metadata": {},
   "outputs": [],
   "source": [
    "import pandas as pd"
   ]
  },
  {
   "cell_type": "code",
   "execution_count": 3,
   "metadata": {},
   "outputs": [
    {
     "name": "stderr",
     "output_type": "stream",
     "text": [
      "C:\\Users\\Ethan Vaz Falcao\\AppData\\Local\\Temp\\ipykernel_31572\\3534584934.py:1: DtypeWarning: Columns (94,95,96,97,98,99,100,101,102,103,104,105,106,107,108,109,110,111,112,113,114,115,116,117,118,119,120,121,122,123,132,133,134) have mixed types. Specify dtype option on import or set low_memory=False.\n",
      "  df_text=pd.read_csv('data/textual/df_text.csv', sep=\",\")\n"
     ]
    }
   ],
   "source": [
    "df_text=pd.read_csv('data/textual/df_text.csv', sep=\",\")\n",
    "df_text = df_text[['url', 'softTitle','title','date', 'author/1', 'description', 'keywords', 'text']]\n",
    "df_text = df_text.rename(columns={'author/1': 'author' })"
   ]
  },
  {
   "cell_type": "code",
   "execution_count": 9,
   "metadata": {},
   "outputs": [
    {
     "data": {
      "text/plain": [
       "'2010-04-23T15:37:59.000Z'"
      ]
     },
     "execution_count": 9,
     "metadata": {},
     "output_type": "execute_result"
    }
   ],
   "source": [
    "df_text['date'].min()"
   ]
  },
  {
   "cell_type": "code",
   "execution_count": 10,
   "metadata": {},
   "outputs": [
    {
     "data": {
      "text/plain": [
       "'2023-12-31T17:00:01.000Z'"
      ]
     },
     "execution_count": 10,
     "metadata": {},
     "output_type": "execute_result"
    }
   ],
   "source": [
    "df_text['date'].max()"
   ]
  },
  {
   "cell_type": "code",
   "execution_count": 8,
   "metadata": {},
   "outputs": [
    {
     "data": {
      "text/html": [
       "<div>\n",
       "<style scoped>\n",
       "    .dataframe tbody tr th:only-of-type {\n",
       "        vertical-align: middle;\n",
       "    }\n",
       "\n",
       "    .dataframe tbody tr th {\n",
       "        vertical-align: top;\n",
       "    }\n",
       "\n",
       "    .dataframe thead th {\n",
       "        text-align: right;\n",
       "    }\n",
       "</style>\n",
       "<table border=\"1\" class=\"dataframe\">\n",
       "  <thead>\n",
       "    <tr style=\"text-align: right;\">\n",
       "      <th></th>\n",
       "      <th>url</th>\n",
       "      <th>softTitle</th>\n",
       "      <th>title</th>\n",
       "      <th>date</th>\n",
       "      <th>author</th>\n",
       "      <th>description</th>\n",
       "      <th>keywords</th>\n",
       "      <th>text</th>\n",
       "    </tr>\n",
       "  </thead>\n",
       "  <tbody>\n",
       "    <tr>\n",
       "      <th>0</th>\n",
       "      <td>https://www.cnbc.com/select/best-balance-trans...</td>\n",
       "      <td>11 best balance transfer cards with 0% APR of ...</td>\n",
       "      <td>11 best balance transfer cards with 0% APR of ...</td>\n",
       "      <td>2019-10-15T05:00:00.000Z</td>\n",
       "      <td>Jason Stauffer,Brett Holzhauer</td>\n",
       "      <td>We analyzed 101 balance transfer cards using a...</td>\n",
       "      <td>Approved for Apple,Select_Cards,Select_Monetiz...</td>\n",
       "      <td>Who's this for: The Citi Simplicity® Card has ...</td>\n",
       "    </tr>\n",
       "    <tr>\n",
       "      <th>1</th>\n",
       "      <td>https://www.cnbc.com/select/the-best-credit-ca...</td>\n",
       "      <td>The best credit cards for building credit of J...</td>\n",
       "      <td>The best credit cards for building credit of J...</td>\n",
       "      <td>2019-10-29T15:24:00.000Z</td>\n",
       "      <td>Benji Stawski,Alexandria White</td>\n",
       "      <td>We analyzed 29 credit cards that are marketed ...</td>\n",
       "      <td>Select: Credit Cards,Select_Monetized,Credit c...</td>\n",
       "      <td>If you lack a credit history or have poor cred...</td>\n",
       "    </tr>\n",
       "    <tr>\n",
       "      <th>2</th>\n",
       "      <td>https://www.cnbc.com/select/best-cash-back-cre...</td>\n",
       "      <td>The best cash-back credit cards of January 2024</td>\n",
       "      <td>The best cash-back credit cards of January 2024</td>\n",
       "      <td>2019-10-15T05:00:00.000Z</td>\n",
       "      <td>Alexandria White,Jason Stauffer</td>\n",
       "      <td>We analyzed 50 of the most popular cash-back c...</td>\n",
       "      <td>Select: Credit Cards,Consumer spending,Persona...</td>\n",
       "      <td>Who's this for? The Citi Double Cash® Card is ...</td>\n",
       "    </tr>\n",
       "  </tbody>\n",
       "</table>\n",
       "</div>"
      ],
      "text/plain": [
       "                                                 url  \\\n",
       "0  https://www.cnbc.com/select/best-balance-trans...   \n",
       "1  https://www.cnbc.com/select/the-best-credit-ca...   \n",
       "2  https://www.cnbc.com/select/best-cash-back-cre...   \n",
       "\n",
       "                                           softTitle  \\\n",
       "0  11 best balance transfer cards with 0% APR of ...   \n",
       "1  The best credit cards for building credit of J...   \n",
       "2    The best cash-back credit cards of January 2024   \n",
       "\n",
       "                                               title  \\\n",
       "0  11 best balance transfer cards with 0% APR of ...   \n",
       "1  The best credit cards for building credit of J...   \n",
       "2    The best cash-back credit cards of January 2024   \n",
       "\n",
       "                       date                           author  \\\n",
       "0  2019-10-15T05:00:00.000Z   Jason Stauffer,Brett Holzhauer   \n",
       "1  2019-10-29T15:24:00.000Z   Benji Stawski,Alexandria White   \n",
       "2  2019-10-15T05:00:00.000Z  Alexandria White,Jason Stauffer   \n",
       "\n",
       "                                         description  \\\n",
       "0  We analyzed 101 balance transfer cards using a...   \n",
       "1  We analyzed 29 credit cards that are marketed ...   \n",
       "2  We analyzed 50 of the most popular cash-back c...   \n",
       "\n",
       "                                            keywords  \\\n",
       "0  Approved for Apple,Select_Cards,Select_Monetiz...   \n",
       "1  Select: Credit Cards,Select_Monetized,Credit c...   \n",
       "2  Select: Credit Cards,Consumer spending,Persona...   \n",
       "\n",
       "                                                text  \n",
       "0  Who's this for: The Citi Simplicity® Card has ...  \n",
       "1  If you lack a credit history or have poor cred...  \n",
       "2  Who's this for? The Citi Double Cash® Card is ...  "
      ]
     },
     "execution_count": 8,
     "metadata": {},
     "output_type": "execute_result"
    }
   ],
   "source": [
    "start_date = '2010-01-01'\n",
    "end_date = '2024-01-01'\n",
    "df_text = df_text[(df_text['date'] >= start_date) & (df_text['date'] <= end_date)]\n",
    "df_text.head(3)"
   ]
  },
  {
   "cell_type": "code",
   "execution_count": 21,
   "metadata": {},
   "outputs": [
    {
     "name": "stdout",
     "output_type": "stream",
     "text": [
      "<class 'pandas.core.frame.DataFrame'>\n",
      "Int64Index: 9770 entries, 0 to 10002\n",
      "Data columns (total 8 columns):\n",
      " #   Column       Non-Null Count  Dtype \n",
      "---  ------       --------------  ----- \n",
      " 0   url          9770 non-null   object\n",
      " 1   softTitle    9770 non-null   object\n",
      " 2   title        9770 non-null   object\n",
      " 3   date         9770 non-null   object\n",
      " 4   author       9565 non-null   object\n",
      " 5   description  9746 non-null   object\n",
      " 6   keywords     9362 non-null   object\n",
      " 7   text         9770 non-null   object\n",
      "dtypes: object(8)\n",
      "memory usage: 687.0+ KB\n"
     ]
    }
   ],
   "source": [
    "df_text.info()"
   ]
  },
  {
   "cell_type": "code",
   "execution_count": 22,
   "metadata": {},
   "outputs": [
    {
     "data": {
      "text/plain": [
       "2010       1\n",
       "2011       3\n",
       "2012       5\n",
       "2013       5\n",
       "2014       4\n",
       "2015      46\n",
       "2016     142\n",
       "2017     231\n",
       "2018     396\n",
       "2019     658\n",
       "2020    1243\n",
       "2021    1364\n",
       "2022    2192\n",
       "2023    3480\n",
       "Name: date, dtype: int64"
      ]
     },
     "execution_count": 22,
     "metadata": {},
     "output_type": "execute_result"
    }
   ],
   "source": [
    "# Convert date strings to datetime objects\n",
    "df_text['date'] = pd.to_datetime(df['date'])\n",
    "\n",
    "# Extract the year from the date and count the number of articles per year\n",
    "articles_per_year = df_text['date'].dt.year.value_counts().sort_index()\n",
    "articles_per_year"
   ]
  },
  {
   "cell_type": "code",
   "execution_count": 23,
   "metadata": {},
   "outputs": [
    {
     "data": {
      "image/png": "[encoded data removed]",
      "text/plain": [
       "<Figure size 360x216 with 1 Axes>"
      ]
     },
     "metadata": {
      "needs_background": "light"
     },
     "output_type": "display_data"
    }
   ],
   "source": [
    "import matplotlib.pyplot as plt\n",
    "\n",
    "# Plotting the data\n",
    "plt.figure(figsize=(5, 3))\n",
    "articles_per_year.plot(kind='bar', color='skyblue')\n",
    "plt.title('Number of Articles Published Per Year')\n",
    "plt.xlabel('Year')\n",
    "plt.ylabel('Number of Articles')\n",
    "plt.xticks(rotation=45)\n",
    "plt.grid(axis='y')\n",
    "\n",
    "# Show the plot\n",
    "plt.show()\n"
   ]
  },
  {
   "cell_type": "code",
   "execution_count": null,
   "metadata": {},
   "outputs": [],
   "source": []
  }
 ],
 "metadata": {
  "kernelspec": {
   "display_name": "Python 3",
   "language": "python",
   "name": "python3"
  },
  "language_info": {
   "codemirror_mode": {
    "name": "ipython",
    "version": 3
   },
   "file_extension": ".py",
   "mimetype": "text/x-python",
   "name": "python",
   "nbconvert_exporter": "python",
   "pygments_lexer": "ipython3",
   "version": "3.9.12"
  }
 },
 "nbformat": 4,
 "nbformat_minor": 2
}
