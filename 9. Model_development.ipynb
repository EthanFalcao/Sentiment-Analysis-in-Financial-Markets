{
 "cells": [
  {
   "cell_type": "markdown",
   "metadata": {},
   "source": [
    "## Model Development"
   ]
  },
  {
   "cell_type": "markdown",
   "metadata": {},
   "source": [
    "#### import data"
   ]
  },
  {
   "cell_type": "code",
   "execution_count": 236,
   "metadata": {},
   "outputs": [],
   "source": [
    "import pandas as pd\n",
    "import matplotlib.pyplot as plt\n",
    "import seaborn as sns"
   ]
  },
  {
   "cell_type": "code",
   "execution_count": 237,
   "metadata": {},
   "outputs": [],
   "source": [
    "df = pd.read_csv('data/df_fs.csv', sep=\",\", index_col=0)"
   ]
  },
  {
   "cell_type": "code",
   "execution_count": 238,
   "metadata": {},
   "outputs": [
    {
     "data": {
      "text/html": [
       "<div>\n",
       "<style scoped>\n",
       "    .dataframe tbody tr th:only-of-type {\n",
       "        vertical-align: middle;\n",
       "    }\n",
       "\n",
       "    .dataframe tbody tr th {\n",
       "        vertical-align: top;\n",
       "    }\n",
       "\n",
       "    .dataframe thead th {\n",
       "        text-align: right;\n",
       "    }\n",
       "</style>\n",
       "<table border=\"1\" class=\"dataframe\">\n",
       "  <thead>\n",
       "    <tr style=\"text-align: right;\">\n",
       "      <th></th>\n",
       "      <th>date</th>\n",
       "      <th>Stock</th>\n",
       "      <th>Open</th>\n",
       "      <th>Low</th>\n",
       "      <th>Close</th>\n",
       "      <th>Volume</th>\n",
       "      <th>30_day_MA</th>\n",
       "      <th>60_day_MA</th>\n",
       "      <th>90_day_MA</th>\n",
       "      <th>SMA_30</th>\n",
       "      <th>...</th>\n",
       "      <th>EMA_90</th>\n",
       "      <th>RSI</th>\n",
       "      <th>EMA_12</th>\n",
       "      <th>EMA_26</th>\n",
       "      <th>MACD</th>\n",
       "      <th>Signal_Line</th>\n",
       "      <th>MACD_Histogram</th>\n",
       "      <th>Price_Change_Pct</th>\n",
       "      <th>Article Length</th>\n",
       "      <th>article_sentiment</th>\n",
       "    </tr>\n",
       "  </thead>\n",
       "  <tbody>\n",
       "    <tr>\n",
       "      <th>0</th>\n",
       "      <td>2016-07-20</td>\n",
       "      <td>MSFT</td>\n",
       "      <td>56.84</td>\n",
       "      <td>55.53</td>\n",
       "      <td>55.91</td>\n",
       "      <td>89893300.00</td>\n",
       "      <td>51.95</td>\n",
       "      <td>52.31</td>\n",
       "      <td>50.52</td>\n",
       "      <td>51.95</td>\n",
       "      <td>...</td>\n",
       "      <td>50.52</td>\n",
       "      <td>71.72</td>\n",
       "      <td>52.74</td>\n",
       "      <td>52.18</td>\n",
       "      <td>0.56</td>\n",
       "      <td>0.04</td>\n",
       "      <td>0.52</td>\n",
       "      <td>5.31</td>\n",
       "      <td>1394.00</td>\n",
       "      <td>1.00</td>\n",
       "    </tr>\n",
       "    <tr>\n",
       "      <th>1</th>\n",
       "      <td>2016-07-25</td>\n",
       "      <td>MSFT</td>\n",
       "      <td>56.74</td>\n",
       "      <td>56.26</td>\n",
       "      <td>56.73</td>\n",
       "      <td>25610600.00</td>\n",
       "      <td>52.10</td>\n",
       "      <td>52.40</td>\n",
       "      <td>50.66</td>\n",
       "      <td>52.10</td>\n",
       "      <td>...</td>\n",
       "      <td>50.66</td>\n",
       "      <td>74.61</td>\n",
       "      <td>53.35</td>\n",
       "      <td>52.51</td>\n",
       "      <td>0.84</td>\n",
       "      <td>0.20</td>\n",
       "      <td>0.64</td>\n",
       "      <td>0.28</td>\n",
       "      <td>623.00</td>\n",
       "      <td>1.00</td>\n",
       "    </tr>\n",
       "    <tr>\n",
       "      <th>2</th>\n",
       "      <td>2016-08-01</td>\n",
       "      <td>MSFT</td>\n",
       "      <td>56.75</td>\n",
       "      <td>56.14</td>\n",
       "      <td>56.58</td>\n",
       "      <td>26003400.00</td>\n",
       "      <td>52.25</td>\n",
       "      <td>52.48</td>\n",
       "      <td>50.80</td>\n",
       "      <td>52.25</td>\n",
       "      <td>...</td>\n",
       "      <td>50.79</td>\n",
       "      <td>91.39</td>\n",
       "      <td>53.85</td>\n",
       "      <td>52.82</td>\n",
       "      <td>1.03</td>\n",
       "      <td>0.37</td>\n",
       "      <td>0.67</td>\n",
       "      <td>-0.18</td>\n",
       "      <td>269.00</td>\n",
       "      <td>1.00</td>\n",
       "    </tr>\n",
       "    <tr>\n",
       "      <th>3</th>\n",
       "      <td>2016-08-03</td>\n",
       "      <td>MSFT</td>\n",
       "      <td>57.11</td>\n",
       "      <td>56.49</td>\n",
       "      <td>56.97</td>\n",
       "      <td>22075600.00</td>\n",
       "      <td>52.41</td>\n",
       "      <td>52.55</td>\n",
       "      <td>50.95</td>\n",
       "      <td>52.41</td>\n",
       "      <td>...</td>\n",
       "      <td>50.93</td>\n",
       "      <td>91.80</td>\n",
       "      <td>54.33</td>\n",
       "      <td>53.12</td>\n",
       "      <td>1.20</td>\n",
       "      <td>0.53</td>\n",
       "      <td>0.67</td>\n",
       "      <td>0.69</td>\n",
       "      <td>904.00</td>\n",
       "      <td>1.00</td>\n",
       "    </tr>\n",
       "    <tr>\n",
       "      <th>4</th>\n",
       "      <td>2016-08-05</td>\n",
       "      <td>MSFT</td>\n",
       "      <td>58.21</td>\n",
       "      <td>57.45</td>\n",
       "      <td>57.96</td>\n",
       "      <td>29335200.00</td>\n",
       "      <td>52.61</td>\n",
       "      <td>52.66</td>\n",
       "      <td>51.12</td>\n",
       "      <td>52.61</td>\n",
       "      <td>...</td>\n",
       "      <td>51.08</td>\n",
       "      <td>92.48</td>\n",
       "      <td>54.89</td>\n",
       "      <td>53.48</td>\n",
       "      <td>1.40</td>\n",
       "      <td>0.71</td>\n",
       "      <td>0.70</td>\n",
       "      <td>0.99</td>\n",
       "      <td>679.00</td>\n",
       "      <td>-2.00</td>\n",
       "    </tr>\n",
       "  </tbody>\n",
       "</table>\n",
       "<p>5 rows × 24 columns</p>\n",
       "</div>"
      ],
      "text/plain": [
       "         date Stock  Open   Low  Close      Volume  30_day_MA  60_day_MA  \\\n",
       "0  2016-07-20  MSFT 56.84 55.53  55.91 89893300.00      51.95      52.31   \n",
       "1  2016-07-25  MSFT 56.74 56.26  56.73 25610600.00      52.10      52.40   \n",
       "2  2016-08-01  MSFT 56.75 56.14  56.58 26003400.00      52.25      52.48   \n",
       "3  2016-08-03  MSFT 57.11 56.49  56.97 22075600.00      52.41      52.55   \n",
       "4  2016-08-05  MSFT 58.21 57.45  57.96 29335200.00      52.61      52.66   \n",
       "\n",
       "   90_day_MA  SMA_30  ...  EMA_90   RSI  EMA_12  EMA_26  MACD  Signal_Line  \\\n",
       "0      50.52   51.95  ...   50.52 71.72   52.74   52.18  0.56         0.04   \n",
       "1      50.66   52.10  ...   50.66 74.61   53.35   52.51  0.84         0.20   \n",
       "2      50.80   52.25  ...   50.79 91.39   53.85   52.82  1.03         0.37   \n",
       "3      50.95   52.41  ...   50.93 91.80   54.33   53.12  1.20         0.53   \n",
       "4      51.12   52.61  ...   51.08 92.48   54.89   53.48  1.40         0.71   \n",
       "\n",
       "   MACD_Histogram  Price_Change_Pct  Article Length  article_sentiment  \n",
       "0            0.52              5.31         1394.00               1.00  \n",
       "1            0.64              0.28          623.00               1.00  \n",
       "2            0.67             -0.18          269.00               1.00  \n",
       "3            0.67              0.69          904.00               1.00  \n",
       "4            0.70              0.99          679.00              -2.00  \n",
       "\n",
       "[5 rows x 24 columns]"
      ]
     },
     "execution_count": 238,
     "metadata": {},
     "output_type": "execute_result"
    }
   ],
   "source": [
    "df.head()"
   ]
  },
  {
   "cell_type": "code",
   "execution_count": 239,
   "metadata": {},
   "outputs": [
    {
     "name": "stdout",
     "output_type": "stream",
     "text": [
      "<class 'pandas.core.frame.DataFrame'>\n",
      "Index: 4983 entries, 0 to 4982\n",
      "Data columns (total 24 columns):\n",
      " #   Column             Non-Null Count  Dtype  \n",
      "---  ------             --------------  -----  \n",
      " 0   date               4983 non-null   object \n",
      " 1   Stock              4983 non-null   object \n",
      " 2   Open               4983 non-null   float64\n",
      " 3   Low                4983 non-null   float64\n",
      " 4   Close              4983 non-null   float64\n",
      " 5   Volume             4983 non-null   float64\n",
      " 6   30_day_MA          4983 non-null   float64\n",
      " 7   60_day_MA          4983 non-null   float64\n",
      " 8   90_day_MA          4983 non-null   float64\n",
      " 9   SMA_30             4983 non-null   float64\n",
      " 10  SMA_60             4983 non-null   float64\n",
      " 11  SMA_90             4983 non-null   float64\n",
      " 12  EMA_30             4983 non-null   float64\n",
      " 13  EMA_60             4983 non-null   float64\n",
      " 14  EMA_90             4983 non-null   float64\n",
      " 15  RSI                4983 non-null   float64\n",
      " 16  EMA_12             4983 non-null   float64\n",
      " 17  EMA_26             4983 non-null   float64\n",
      " 18  MACD               4983 non-null   float64\n",
      " 19  Signal_Line        4983 non-null   float64\n",
      " 20  MACD_Histogram     4983 non-null   float64\n",
      " 21  Price_Change_Pct   4983 non-null   float64\n",
      " 22  Article Length     4983 non-null   float64\n",
      " 23  article_sentiment  4983 non-null   float64\n",
      "dtypes: float64(22), object(2)\n",
      "memory usage: 973.2+ KB\n"
     ]
    }
   ],
   "source": [
    "df.info()"
   ]
  },
  {
   "cell_type": "code",
   "execution_count": 240,
   "metadata": {},
   "outputs": [],
   "source": [
    "#df = df[['article_sentiment', 'Volume', 'RSI','MACD_Histogram','Close','30_day_MA', 'SMA_30', 'EMA_30', 'MACD', 'Article Length', 'Price_Change_Pct']]"
   ]
  },
  {
   "cell_type": "code",
   "execution_count": 241,
   "metadata": {},
   "outputs": [],
   "source": [
    "#X = df.drop([\"Price_Change_Pct\"], axis=1)\n",
    "X = df[['article_sentiment',  'Open', 'Close', '30_day_MA','SMA_60', 'MACD' ]]\n",
    "\n",
    "#Backward Elimiation \n",
    "#X = df[['article_sentiment','Volume', 'RSI', '30_day_MA', 'SMA_60', 'EMA_90', 'MACD']]\n",
    "y = df['Price_Change_Pct']  # Target variable"
   ]
  },
  {
   "cell_type": "markdown",
   "metadata": {},
   "source": [
    "#### Multicollinearity Test"
   ]
  },
  {
   "cell_type": "code",
   "execution_count": 242,
   "metadata": {},
   "outputs": [
    {
     "name": "stdout",
     "output_type": "stream",
     "text": [
      "             feature      VIF\n",
      "0  article_sentiment     1.09\n",
      "1               Open 15296.16\n",
      "2              Close 18529.31\n",
      "3          30_day_MA 10488.68\n",
      "4             SMA_60 12160.32\n",
      "5               MACD    12.35\n"
     ]
    }
   ],
   "source": [
    "from statsmodels.stats.outliers_influence import variance_inflation_factor\n",
    "\n",
    "# Assuming `X` is your DataFrame of predictors including a constant\n",
    "vif_data = pd.DataFrame()\n",
    "vif_data[\"feature\"] = X.columns\n",
    "vif_data[\"VIF\"] = [variance_inflation_factor(X.values, i) for i in range(X.shape[1])]\n",
    "\n",
    "print(vif_data)\n"
   ]
  },
  {
   "cell_type": "markdown",
   "metadata": {},
   "source": [
    "### Linear Regression"
   ]
  },
  {
   "cell_type": "code",
   "execution_count": 243,
   "metadata": {},
   "outputs": [
    {
     "name": "stdout",
     "output_type": "stream",
     "text": [
      "Evaluation Metrics:\n",
      "Mean Absolute Error (MAE): 0.8296531592069291\n",
      "Mean Squared Error (MSE): 1.81852587634137\n",
      "R-squared (R2): 0.5959529632608336\n",
      "\n",
      "Linear Regression Summary:\n",
      "                            OLS Regression Results                            \n",
      "==============================================================================\n",
      "Dep. Variable:       Price_Change_Pct   R-squared:                       0.648\n",
      "Model:                            OLS   Adj. R-squared:                  0.647\n",
      "Method:                 Least Squares   F-statistic:                     1219.\n",
      "Date:                Thu, 02 May 2024   Prob (F-statistic):               0.00\n",
      "Time:                        13:49:19   Log-Likelihood:                -6271.8\n",
      "No. Observations:                3986   AIC:                         1.256e+04\n",
      "Df Residuals:                    3979   BIC:                         1.260e+04\n",
      "Df Model:                           6                                         \n",
      "Covariance Type:            nonrobust                                         \n",
      "==============================================================================\n",
      "                 coef    std err          t      P>|t|      [0.025      0.975]\n",
      "------------------------------------------------------------------------------\n",
      "const          0.1751      0.019      9.462      0.000       0.139       0.211\n",
      "x1            -0.0332      0.019     -1.794      0.073      -0.070       0.003\n",
      "x2           -17.3975      0.678    -25.654      0.000     -18.727     -16.068\n",
      "x3            53.1899      0.732     72.660      0.000      51.755      54.625\n",
      "x4           -25.1533      0.559    -45.019      0.000     -26.249     -24.058\n",
      "x5           -10.7950      0.608    -17.750      0.000     -11.987      -9.603\n",
      "x6            -2.3196      0.063    -36.675      0.000      -2.444      -2.196\n",
      "==============================================================================\n",
      "Omnibus:                     1202.906   Durbin-Watson:                   1.997\n",
      "Prob(Omnibus):                  0.000   Jarque-Bera (JB):            12515.962\n",
      "Skew:                           1.132   Prob(JB):                         0.00\n",
      "Kurtosis:                      11.381   Cond. No.                         94.2\n",
      "==============================================================================\n",
      "\n",
      "Notes:\n",
      "[1] Standard Errors assume that the covariance matrix of the errors is correctly specified.\n"
     ]
    }
   ],
   "source": [
    "import pandas as pd\n",
    "from sklearn.model_selection import train_test_split\n",
    "from sklearn.preprocessing import StandardScaler\n",
    "from sklearn.metrics import mean_absolute_error, mean_squared_error, r2_score\n",
    "from sklearn.linear_model import LinearRegression\n",
    "import statsmodels.api as sm\n",
    "\n",
    "\n",
    "# Split the data into training and testing sets (80/20 split)\n",
    "X_train, X_test, y_train, y_test = train_test_split(X, y, test_size=0.2, random_state=42)\n",
    "\n",
    "# Standardize the features\n",
    "scaler = StandardScaler()\n",
    "X_train_scaled = scaler.fit_transform(X_train)\n",
    "X_test_scaled = scaler.transform(X_test)\n",
    "\n",
    "# Create a linear regression model\n",
    "lin_reg = LinearRegression()\n",
    "\n",
    "# Fit the model to the training data\n",
    "lin_reg.fit(X_train_scaled, y_train)\n",
    "\n",
    "# Predict on the test data\n",
    "y_pred = lin_reg.predict(X_test_scaled)\n",
    "\n",
    "# Calculate evaluation metrics\n",
    "mae = mean_absolute_error(y_test, y_pred)\n",
    "mse = mean_squared_error(y_test, y_pred)\n",
    "r2 = r2_score(y_test, y_pred)\n",
    "\n",
    "# Output model coefficients and performance metrics\n",
    "coefficients = dict(zip(X.columns, lin_reg.coef_))  # Get model coefficients\n",
    "print(\"Evaluation Metrics:\")\n",
    "print(\"Mean Absolute Error (MAE):\", mae)\n",
    "print(\"Mean Squared Error (MSE):\", mse)\n",
    "print(\"R-squared (R2):\", r2)\n",
    "\n",
    "# Add a constant term to the features\n",
    "X_train_with_const = sm.add_constant(X_train_scaled)\n",
    "\n",
    "# Create and fit the model\n",
    "model = sm.OLS(y_train, X_train_with_const)\n",
    "results = model.fit()\n",
    "\n",
    "# Print the summary\n",
    "print(\"\\nLinear Regression Summary:\")\n",
    "print(results.summary())\n"
   ]
  },
  {
   "cell_type": "markdown",
   "metadata": {},
   "source": [
    "### Lasso Regression "
   ]
  },
  {
   "cell_type": "code",
   "execution_count": 244,
   "metadata": {},
   "outputs": [
    {
     "name": "stdout",
     "output_type": "stream",
     "text": [
      "Optimal alpha: 0.0006683107282641673\n",
      "Testing MSE: 2.4680856789170202\n",
      "Testing R2: 0.4516312811610501\n",
      "Coefficients: [-1.94559274e-02 -1.60301036e-02  2.47072938e+01 -2.53940704e+01\n",
      "  6.47372785e-01 -9.71651083e-01]\n"
     ]
    }
   ],
   "source": [
    "from sklearn.linear_model import LassoCV\n",
    "\n",
    "# Creating and fitting the model\n",
    "lasso_cv = LassoCV(cv=5, random_state=42)  # 5-fold cross-validation\n",
    "lasso_cv.fit(X_train_scaled, y_train)\n",
    "\n",
    "# Optimal alpha\n",
    "print(\"Optimal alpha:\", lasso_cv.alpha_)\n",
    "\n",
    "# Evaluate the model with optimal alpha\n",
    "y_pred_cv = lasso_cv.predict(X_test_scaled)\n",
    "print(\"Testing MSE:\", mean_squared_error(y_test, y_pred_cv))\n",
    "print(\"Testing R2:\", r2_score(y_test, y_pred_cv))\n",
    "\n",
    "# Check the coefficients\n",
    "print(\"Coefficients:\", lasso_cv.coef_)\n"
   ]
  },
  {
   "cell_type": "code",
   "execution_count": 245,
   "metadata": {},
   "outputs": [
    {
     "name": "stdout",
     "output_type": "stream",
     "text": [
      "Training MSE: 1.93, Testing MSE: 2.47\n",
      "Training R2: 0.50, Testing R2: 0.45\n",
      "Coefficients: [-1.93368682e-02 -2.69181969e-04  2.45824262e+01 -2.50234598e+01\n",
      "  3.85361852e-01 -9.72357684e-01]\n"
     ]
    }
   ],
   "source": [
    "import numpy as np\n",
    "from sklearn.model_selection import train_test_split\n",
    "from sklearn.linear_model import Lasso\n",
    "from sklearn.metrics import mean_squared_error, r2_score\n",
    "from sklearn.preprocessing import StandardScaler\n",
    "\n",
    "\n",
    "# Split the data into training and testing sets.\n",
    "X_train, X_test, y_train, y_test = train_test_split(X, y, test_size=0.2, random_state=42)\n",
    "\n",
    "scaler = StandardScaler()\n",
    "X_train_scaled = scaler.fit_transform(X_train)\n",
    "X_test_scaled = scaler.transform(X_test)\n",
    "\n",
    "\n",
    "# Create a Lasso regressor object and fit it to the training data.\n",
    "lasso = Lasso(alpha=0.0009651091796985053)  # Alpha is a hyperparameter; adjust it based on validation\n",
    "lasso.fit(X_train_scaled, y_train)\n",
    "\n",
    "# Predict on the training and test data.\n",
    "y_train_pred = lasso.predict(X_train_scaled)\n",
    "y_test_pred = lasso.predict(X_test_scaled)\n",
    "\n",
    "\n",
    "# Calculate metrics\n",
    "mse_train = mean_squared_error(y_train, y_train_pred)\n",
    "mse_test = mean_squared_error(y_test, y_test_pred)\n",
    "r2_train = r2_score(y_train, y_train_pred)\n",
    "r2_test = r2_score(y_test, y_test_pred)\n",
    "\n",
    "print(\"Training MSE: {:.2f}, Testing MSE: {:.2f}\".format(mse_train, mse_test))\n",
    "print(\"Training R2: {:.2f}, Testing R2: {:.2f}\".format(r2_train, r2_test))\n",
    "\n",
    "print(\"Coefficients:\", lasso.coef_)\n"
   ]
  },
  {
   "cell_type": "code",
   "execution_count": null,
   "metadata": {},
   "outputs": [],
   "source": []
  },
  {
   "cell_type": "markdown",
   "metadata": {},
   "source": [
    "### XGBRegressor "
   ]
  },
  {
   "cell_type": "code",
   "execution_count": 246,
   "metadata": {},
   "outputs": [
    {
     "name": "stdout",
     "output_type": "stream",
     "text": [
      "Evaluation Metrics:\n",
      "Mean Absolute Error (MAE): 0.5568163821620444\n",
      "Mean Squared Error (MSE): 0.9353392647001318\n",
      "R-squared (R2): 0.7921827436361777\n",
      "\n",
      "Feature Importance:\n",
      "{'f0': 312.0, 'f1': 1100.0, 'f2': 842.0, 'f3': 704.0, 'f4': 367.0, 'f5': 783.0}\n"
     ]
    }
   ],
   "source": [
    "import pandas as pd\n",
    "from sklearn.model_selection import train_test_split\n",
    "from sklearn.preprocessing import StandardScaler\n",
    "from sklearn.metrics import mean_absolute_error, mean_squared_error, r2_score\n",
    "from xgboost import XGBRegressor  # Import XGBRegressor\n",
    "\n",
    "# Define features and the target variable\n",
    "#X = df[['Open', 'Low', 'Close', '60_day_MA', 'RSI', 'MACD', 'MACD_Histogram', 'article_sentiment']]\n",
    "#y = df['Price_Change_Pct']  # Target variable\n",
    "\n",
    "\n",
    "\n",
    "# Standardize the features\n",
    "scaler = StandardScaler()\n",
    "X_train_scaled = scaler.fit_transform(X_train)  # Standardize the training set\n",
    "X_test_scaled = scaler.transform(X_test)  # Standardize the testing set\n",
    "\n",
    "# Create the XGBRegressor model\n",
    "xgb_reg = XGBRegressor(objective='reg:squarederror', random_state=42)  # 'reg:squarederror' for regression tasks\n",
    "\n",
    "# Fit the model to the training data\n",
    "xgb_reg.fit(X_train_scaled, y_train)  # Ensure the model is trained\n",
    "\n",
    "# Predict on the test data\n",
    "y_pred = xgb_reg.predict(X_test_scaled)  # Predict on the test set\n",
    "\n",
    "# Calculate evaluation metrics\n",
    "mae = mean_absolute_error(y_test, y_pred)  # Mean Absolute Error\n",
    "mse = mean_squared_error(y_test, y_pred)  # Mean Squared Error\n",
    "r2 = r2_score(y_test, y_pred)  # R-squared\n",
    "\n",
    "# Retrieve feature importance using the correct method\n",
    "feature_importance = xgb_reg.get_booster().get_score(importance_type='weight')  # Get feature importance by weight\n",
    "\n",
    "# Output model coefficients and performance metrics\n",
    "print(\"Evaluation Metrics:\")\n",
    "print(\"Mean Absolute Error (MAE):\", mae)\n",
    "print(\"Mean Squared Error (MSE):\", mse)\n",
    "print(\"R-squared (R2):\", r2)\n",
    "\n",
    "print(\"\\nFeature Importance:\")\n",
    "print(feature_importance)  # Display feature importance\n"
   ]
  },
  {
   "cell_type": "markdown",
   "metadata": {},
   "source": [
    "### lazypredict"
   ]
  },
  {
   "cell_type": "code",
   "execution_count": 100,
   "metadata": {},
   "outputs": [
    {
     "name": "stderr",
     "output_type": "stream",
     "text": [
      "100%|██████████| 42/42 [00:19<00:00,  2.17it/s]"
     ]
    },
    {
     "name": "stdout",
     "output_type": "stream",
     "text": [
      "[LightGBM] [Info] Auto-choosing col-wise multi-threading, the overhead of testing was 0.000248 seconds.\n",
      "You can set `force_col_wise=true` to remove the overhead.\n",
      "[LightGBM] [Info] Total Bins 2295\n",
      "[LightGBM] [Info] Number of data points in the train set: 3986, number of used features: 10\n",
      "[LightGBM] [Info] Start training from score 0.175068\n",
      "                               Adjusted R-Squared  R-Squared  RMSE  Time Taken\n",
      "Model                                                                         \n",
      "ExtraTreesRegressor                          0.83       0.83  0.88        1.36\n",
      "XGBRegressor                                 0.82       0.82  0.90        0.12\n",
      "RandomForestRegressor                        0.79       0.79  0.98        5.69\n",
      "BaggingRegressor                             0.76       0.76  1.04        0.58\n",
      "HistGradientBoostingRegressor                0.73       0.73  1.10        0.47\n",
      "LGBMRegressor                                0.72       0.72  1.12        0.08\n",
      "GradientBoostingRegressor                    0.67       0.67  1.22        1.82\n",
      "DecisionTreeRegressor                        0.64       0.64  1.27        0.07\n",
      "LassoLarsIC                                  0.62       0.63  1.30        0.01\n",
      "LassoLarsCV                                  0.62       0.63  1.30        0.03\n",
      "TransformedTargetRegressor                   0.62       0.63  1.30        0.01\n",
      "LinearRegression                             0.62       0.63  1.30        0.01\n",
      "BayesianRidge                                0.62       0.63  1.30        0.01\n",
      "RidgeCV                                      0.62       0.62  1.31        0.02\n",
      "HuberRegressor                               0.61       0.62  1.31        0.13\n",
      "LarsCV                                       0.57       0.57  1.39        0.02\n",
      "Ridge                                        0.54       0.55  1.43        0.01\n",
      "MLPRegressor                                 0.54       0.54  1.43        3.67\n",
      "KernelRidge                                  0.54       0.54  1.43        0.69\n",
      "RANSACRegressor                              0.52       0.53  1.46        0.14\n",
      "OrthogonalMatchingPursuitCV                  0.51       0.51  1.48        0.02\n",
      "LinearSVR                                    0.49       0.50  1.50        0.03\n",
      "LassoCV                                      0.47       0.47  1.54        0.18\n",
      "Lars                                         0.47       0.47  1.54        0.01\n",
      "AdaBoostRegressor                            0.42       0.43  1.61        0.42\n",
      "KNeighborsRegressor                          0.39       0.39  1.65        0.04\n",
      "ElasticNetCV                                 0.38       0.39  1.66        0.15\n",
      "ExtraTreeRegressor                           0.38       0.38  1.67        0.02\n",
      "NuSVR                                        0.26       0.26  1.82        0.64\n",
      "SVR                                          0.25       0.26  1.82        0.88\n",
      "PassiveAggressiveRegressor                   0.24       0.25  1.84        0.01\n",
      "SGDRegressor                                 0.22       0.23  1.86        0.02\n",
      "OrthogonalMatchingPursuit                    0.20       0.21  1.89        0.01\n",
      "TweedieRegressor                             0.16       0.16  1.94        0.01\n",
      "ElasticNet                                   0.11       0.11  2.00        0.01\n",
      "Lasso                                       -0.01      -0.00  2.12        0.01\n",
      "DummyRegressor                              -0.01      -0.00  2.12        0.01\n",
      "LassoLars                                   -0.01      -0.00  2.12        0.01\n",
      "GaussianProcessRegressor                    -0.08      -0.07  2.19        1.88\n"
     ]
    },
    {
     "name": "stderr",
     "output_type": "stream",
     "text": [
      "\n"
     ]
    }
   ],
   "source": [
    "import lazypredict\n",
    "from lazypredict.Supervised import LazyRegressor\n",
    "import numpy as np\n",
    "\n",
    "\n",
    "clf = LazyRegressor(verbose=0,predictions=True, ignore_warnings=True, custom_metric=None)\n",
    "models,predictions = clf.fit(X_train, X_test, y_train, y_test)\n",
    "\n",
    "print(models)"
   ]
  }
 ],
 "metadata": {
  "kernelspec": {
   "display_name": "Python 3",
   "language": "python",
   "name": "python3"
  },
  "language_info": {
   "codemirror_mode": {
    "name": "ipython",
    "version": 3
   },
   "file_extension": ".py",
   "mimetype": "text/x-python",
   "name": "python",
   "nbconvert_exporter": "python",
   "pygments_lexer": "ipython3",
   "version": "3.9.13"
  }
 },
 "nbformat": 4,
 "nbformat_minor": 2
}
