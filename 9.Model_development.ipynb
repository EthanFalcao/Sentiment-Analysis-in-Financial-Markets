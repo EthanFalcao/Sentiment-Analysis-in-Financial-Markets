{
 "cells": [
  {
   "cell_type": "markdown",
   "metadata": {},
   "source": [
    "## Model Development"
   ]
  },
  {
   "cell_type": "markdown",
   "metadata": {},
   "source": [
    "#### import data"
   ]
  },
  {
   "cell_type": "code",
   "execution_count": 3,
   "metadata": {},
   "outputs": [],
   "source": [
    "import pandas as pd\n",
    "import matplotlib.pyplot as plt\n",
    "import seaborn as sns"
   ]
  },
  {
   "cell_type": "code",
   "execution_count": 4,
   "metadata": {},
   "outputs": [],
   "source": [
    "df = pd.read_csv('data/df_fs.csv', sep=\",\", index_col=0)"
   ]
  },
  {
   "cell_type": "code",
   "execution_count": 5,
   "metadata": {},
   "outputs": [
    {
     "data": {
      "text/html": [
       "<div>\n",
       "<style scoped>\n",
       "    .dataframe tbody tr th:only-of-type {\n",
       "        vertical-align: middle;\n",
       "    }\n",
       "\n",
       "    .dataframe tbody tr th {\n",
       "        vertical-align: top;\n",
       "    }\n",
       "\n",
       "    .dataframe thead th {\n",
       "        text-align: right;\n",
       "    }\n",
       "</style>\n",
       "<table border=\"1\" class=\"dataframe\">\n",
       "  <thead>\n",
       "    <tr style=\"text-align: right;\">\n",
       "      <th></th>\n",
       "      <th>date</th>\n",
       "      <th>Open</th>\n",
       "      <th>Volume</th>\n",
       "      <th>RSI</th>\n",
       "      <th>MACD</th>\n",
       "      <th>Price_Change_Pct</th>\n",
       "      <th>Article Length</th>\n",
       "      <th>article_sentiment</th>\n",
       "      <th>Price_Change_Category</th>\n",
       "      <th>smoothed_sentiment</th>\n",
       "    </tr>\n",
       "  </thead>\n",
       "  <tbody>\n",
       "    <tr>\n",
       "      <th>0</th>\n",
       "      <td>2016-07-20</td>\n",
       "      <td>56.840000</td>\n",
       "      <td>89893300.0</td>\n",
       "      <td>71.721804</td>\n",
       "      <td>0.558581</td>\n",
       "      <td>5.311734</td>\n",
       "      <td>1394.0</td>\n",
       "      <td>4.0</td>\n",
       "      <td>positive</td>\n",
       "      <td>4.0</td>\n",
       "    </tr>\n",
       "    <tr>\n",
       "      <th>1</th>\n",
       "      <td>2016-07-25</td>\n",
       "      <td>56.740002</td>\n",
       "      <td>25610600.0</td>\n",
       "      <td>74.606512</td>\n",
       "      <td>0.835840</td>\n",
       "      <td>0.282835</td>\n",
       "      <td>623.0</td>\n",
       "      <td>4.0</td>\n",
       "      <td>positive</td>\n",
       "      <td>4.0</td>\n",
       "    </tr>\n",
       "    <tr>\n",
       "      <th>2</th>\n",
       "      <td>2016-08-01</td>\n",
       "      <td>56.750000</td>\n",
       "      <td>26003400.0</td>\n",
       "      <td>91.388238</td>\n",
       "      <td>1.031574</td>\n",
       "      <td>-0.176426</td>\n",
       "      <td>269.0</td>\n",
       "      <td>4.0</td>\n",
       "      <td>negative</td>\n",
       "      <td>4.0</td>\n",
       "    </tr>\n",
       "    <tr>\n",
       "      <th>3</th>\n",
       "      <td>2016-08-03</td>\n",
       "      <td>57.110001</td>\n",
       "      <td>22075600.0</td>\n",
       "      <td>91.799325</td>\n",
       "      <td>1.204282</td>\n",
       "      <td>0.689288</td>\n",
       "      <td>904.0</td>\n",
       "      <td>4.0</td>\n",
       "      <td>positive</td>\n",
       "      <td>4.0</td>\n",
       "    </tr>\n",
       "    <tr>\n",
       "      <th>4</th>\n",
       "      <td>2016-08-05</td>\n",
       "      <td>58.209999</td>\n",
       "      <td>29335200.0</td>\n",
       "      <td>92.480413</td>\n",
       "      <td>1.404845</td>\n",
       "      <td>0.993204</td>\n",
       "      <td>679.0</td>\n",
       "      <td>1.0</td>\n",
       "      <td>positive</td>\n",
       "      <td>3.4</td>\n",
       "    </tr>\n",
       "  </tbody>\n",
       "</table>\n",
       "</div>"
      ],
      "text/plain": [
       "         date       Open      Volume        RSI      MACD  Price_Change_Pct  \\\n",
       "0  2016-07-20  56.840000  89893300.0  71.721804  0.558581          5.311734   \n",
       "1  2016-07-25  56.740002  25610600.0  74.606512  0.835840          0.282835   \n",
       "2  2016-08-01  56.750000  26003400.0  91.388238  1.031574         -0.176426   \n",
       "3  2016-08-03  57.110001  22075600.0  91.799325  1.204282          0.689288   \n",
       "4  2016-08-05  58.209999  29335200.0  92.480413  1.404845          0.993204   \n",
       "\n",
       "   Article Length  article_sentiment Price_Change_Category  smoothed_sentiment  \n",
       "0          1394.0                4.0              positive                 4.0  \n",
       "1           623.0                4.0              positive                 4.0  \n",
       "2           269.0                4.0              negative                 4.0  \n",
       "3           904.0                4.0              positive                 4.0  \n",
       "4           679.0                1.0              positive                 3.4  "
      ]
     },
     "execution_count": 5,
     "metadata": {},
     "output_type": "execute_result"
    }
   ],
   "source": [
    "df.head()"
   ]
  },
  {
   "cell_type": "code",
   "execution_count": 6,
   "metadata": {},
   "outputs": [
    {
     "name": "stdout",
     "output_type": "stream",
     "text": [
      "<class 'pandas.core.frame.DataFrame'>\n",
      "Index: 4983 entries, 0 to 4982\n",
      "Data columns (total 10 columns):\n",
      " #   Column                 Non-Null Count  Dtype  \n",
      "---  ------                 --------------  -----  \n",
      " 0   date                   4983 non-null   object \n",
      " 1   Open                   4983 non-null   float64\n",
      " 2   Volume                 4983 non-null   float64\n",
      " 3   RSI                    4983 non-null   float64\n",
      " 4   MACD                   4983 non-null   float64\n",
      " 5   Price_Change_Pct       4983 non-null   float64\n",
      " 6   Article Length         4983 non-null   float64\n",
      " 7   article_sentiment      4983 non-null   float64\n",
      " 8   Price_Change_Category  4983 non-null   object \n",
      " 9   smoothed_sentiment     4983 non-null   float64\n",
      "dtypes: float64(8), object(2)\n",
      "memory usage: 428.2+ KB\n"
     ]
    }
   ],
   "source": [
    "df.info()"
   ]
  },
  {
   "cell_type": "code",
   "execution_count": 7,
   "metadata": {},
   "outputs": [
    {
     "name": "stdout",
     "output_type": "stream",
     "text": [
      "T-statistic: nan\n",
      "P-value: nan\n",
      "Cumulative Abnormal Returns (CAR):\n",
      "        Date       CAR\n",
      "0 2024-04-15       NaN\n",
      "1 2024-04-16  0.122819\n",
      "2 2024-04-17  0.391577\n",
      "3 2024-04-18  0.120319\n",
      "4 2024-04-19  0.285814\n",
      "5 2024-04-20  0.141889\n"
     ]
    },
    {
     "name": "stderr",
     "output_type": "stream",
     "text": [
      "C:\\Users\\Ethan Vaz Falcao\\AppData\\Local\\Temp\\ipykernel_15372\\2708416346.py:21: SettingWithCopyWarning: \n",
      "A value is trying to be set on a copy of a slice from a DataFrame.\n",
      "Try using .loc[row_indexer,col_indexer] = value instead\n",
      "\n",
      "See the caveats in the documentation: https://pandas.pydata.org/pandas-docs/stable/user_guide/indexing.html#returning-a-view-versus-a-copy\n",
      "  event_stock_prices['DailyReturn'] = event_stock_prices['StockPrice'].pct_change()\n",
      "C:\\Users\\Ethan Vaz Falcao\\AppData\\Local\\Temp\\ipykernel_15372\\2708416346.py:25: SettingWithCopyWarning: \n",
      "A value is trying to be set on a copy of a slice from a DataFrame.\n",
      "Try using .loc[row_indexer,col_indexer] = value instead\n",
      "\n",
      "See the caveats in the documentation: https://pandas.pydata.org/pandas-docs/stable/user_guide/indexing.html#returning-a-view-versus-a-copy\n",
      "  event_stock_prices['ExpectedReturn'] = 0\n",
      "C:\\Users\\Ethan Vaz Falcao\\AppData\\Local\\Temp\\ipykernel_15372\\2708416346.py:28: SettingWithCopyWarning: \n",
      "A value is trying to be set on a copy of a slice from a DataFrame.\n",
      "Try using .loc[row_indexer,col_indexer] = value instead\n",
      "\n",
      "See the caveats in the documentation: https://pandas.pydata.org/pandas-docs/stable/user_guide/indexing.html#returning-a-view-versus-a-copy\n",
      "  event_stock_prices['AbnormalReturn'] = event_stock_prices['DailyReturn'] - event_stock_prices['ExpectedReturn']\n",
      "C:\\Users\\Ethan Vaz Falcao\\AppData\\Local\\Temp\\ipykernel_15372\\2708416346.py:31: SettingWithCopyWarning: \n",
      "A value is trying to be set on a copy of a slice from a DataFrame.\n",
      "Try using .loc[row_indexer,col_indexer] = value instead\n",
      "\n",
      "See the caveats in the documentation: https://pandas.pydata.org/pandas-docs/stable/user_guide/indexing.html#returning-a-view-versus-a-copy\n",
      "  event_stock_prices['CAR'] = event_stock_prices['AbnormalReturn'].cumsum()\n"
     ]
    }
   ],
   "source": [
    "import pandas as pd\n",
    "import numpy as np\n",
    "from scipy import stats\n",
    "\n",
    "# Example data\n",
    "event_date = '2024-04-20'\n",
    "window_days = 5\n",
    "stock_prices = pd.DataFrame({'Date': pd.date_range('2024-04-15', periods=window_days*2),\n",
    "                             'StockPrice': np.random.normal(100, 10, window_days*2)})\n",
    "\n",
    "# Assuming positive or negative sentiment for the event\n",
    "positive_event = True\n",
    "\n",
    "# Define the event window\n",
    "event_window = pd.date_range(end=event_date, periods=window_days*2+1, freq='D')\n",
    "\n",
    "# Filter stock prices for the event window\n",
    "event_stock_prices = stock_prices[stock_prices['Date'].isin(event_window)]\n",
    "\n",
    "# Calculate daily returns\n",
    "event_stock_prices['DailyReturn'] = event_stock_prices['StockPrice'].pct_change()\n",
    "\n",
    "# Calculate expected returns (e.g., using market index returns)\n",
    "# For simplicity, assuming expected returns are zero\n",
    "event_stock_prices['ExpectedReturn'] = 0\n",
    "\n",
    "# Calculate abnormal returns\n",
    "event_stock_prices['AbnormalReturn'] = event_stock_prices['DailyReturn'] - event_stock_prices['ExpectedReturn']\n",
    "\n",
    "# Calculate cumulative abnormal returns (CAR)\n",
    "event_stock_prices['CAR'] = event_stock_prices['AbnormalReturn'].cumsum()\n",
    "\n",
    "# Perform t-test for abnormal returns\n",
    "t_stat, p_value = stats.ttest_1samp(event_stock_prices['AbnormalReturn'], 0)\n",
    "\n",
    "# Print results\n",
    "print(\"T-statistic:\", t_stat)\n",
    "print(\"P-value:\", p_value)\n",
    "print(\"Cumulative Abnormal Returns (CAR):\")\n",
    "print(event_stock_prices[['Date', 'CAR']])\n"
   ]
  },
  {
   "cell_type": "code",
   "execution_count": null,
   "metadata": {},
   "outputs": [],
   "source": []
  },
  {
   "cell_type": "code",
   "execution_count": 8,
   "metadata": {},
   "outputs": [
    {
     "name": "stdout",
     "output_type": "stream",
     "text": [
      "Selected features: ['RSI', 'article_sentiment']\n",
      "Mean Squared Error: 3.569108530446259\n"
     ]
    }
   ],
   "source": [
    "from sklearn.model_selection import train_test_split\n",
    "from sklearn.linear_model import LinearRegression, LassoCV\n",
    "from sklearn.feature_selection import RFE\n",
    "from sklearn.metrics import mean_squared_error\n",
    "\n",
    "# Split the data into training and testing sets\n",
    "X = df[['Open', 'Volume', 'RSI', 'article_sentiment']]  # Replace with your features\n",
    "\n",
    "\n",
    "y = df['Price_Change_Pct']\n",
    "\n",
    "X_train, X_test, y_train, y_test = train_test_split(X, y, test_size=0.2, random_state=42)\n",
    "\n",
    "# Recursive Feature Elimination with linear regression\n",
    "model = LinearRegression()\n",
    "rfe = RFE(estimator=model, n_features_to_select=2)  # Selects top 2 features\n",
    "rfe.fit(X_train, y_train)\n",
    "\n",
    "# Get the ranking of features\n",
    "feature_ranking = rfe.ranking_\n",
    "\n",
    "# Fit linear regression with selected features\n",
    "selected_features = [feature for feature, rank in zip(X.columns, feature_ranking) if rank == 1]\n",
    "model.fit(X_train[selected_features], y_train)\n",
    "\n",
    "# Evaluate the model\n",
    "y_pred = model.predict(X_test[selected_features])\n",
    "mse = mean_squared_error(y_test, y_pred)\n",
    "\n",
    "print(\"Selected features:\", selected_features)\n",
    "print(\"Mean Squared Error:\", mse)\n"
   ]
  },
  {
   "cell_type": "code",
   "execution_count": 11,
   "metadata": {},
   "outputs": [
    {
     "name": "stdout",
     "output_type": "stream",
     "text": [
      "Evaluation Metrics:\n",
      "Mean Absolute Error (MAE): 1.2248648176579853\n",
      "Mean Squared Error (MSE): 3.5565952820854174\n",
      "R-squared (R2): 0.20978205297896146\n",
      "\n",
      "Linear Regression Summary:\n",
      "                            OLS Regression Results                            \n",
      "==============================================================================\n",
      "Dep. Variable:       Price_Change_Pct   R-squared:                       0.242\n",
      "Model:                            OLS   Adj. R-squared:                  0.242\n",
      "Method:                 Least Squares   F-statistic:                     318.4\n",
      "Date:                Thu, 25 Apr 2024   Prob (F-statistic):          5.69e-238\n",
      "Time:                        00:41:44   Log-Likelihood:                -7797.3\n",
      "No. Observations:                3986   AIC:                         1.560e+04\n",
      "Df Residuals:                    3981   BIC:                         1.564e+04\n",
      "Df Model:                           4                                         \n",
      "Covariance Type:            nonrobust                                         \n",
      "==============================================================================\n",
      "                 coef    std err          t      P>|t|      [0.025      0.975]\n",
      "------------------------------------------------------------------------------\n",
      "const          0.1751      0.027      6.455      0.000       0.122       0.228\n",
      "x1             0.0562      0.027      2.052      0.040       0.003       0.110\n",
      "x2             0.0505      0.028      1.833      0.067      -0.004       0.104\n",
      "x3             0.9705      0.027     35.653      0.000       0.917       1.024\n",
      "x4            -0.0162      0.027     -0.596      0.552      -0.070       0.037\n",
      "==============================================================================\n",
      "Omnibus:                      573.203   Durbin-Watson:                   1.936\n",
      "Prob(Omnibus):                  0.000   Jarque-Bera (JB):             8397.197\n",
      "Skew:                           0.052   Prob(JB):                         0.00\n",
      "Kurtosis:                      10.110   Cond. No.                         1.19\n",
      "==============================================================================\n",
      "\n",
      "Notes:\n",
      "[1] Standard Errors assume that the covariance matrix of the errors is correctly specified.\n"
     ]
    }
   ],
   "source": [
    "import pandas as pd\n",
    "from sklearn.model_selection import train_test_split\n",
    "from sklearn.preprocessing import StandardScaler\n",
    "from sklearn.metrics import mean_absolute_error, mean_squared_error, r2_score\n",
    "from sklearn.linear_model import LinearRegression\n",
    "import statsmodels.api as sm\n",
    "\n",
    "# Define relevant features and the target variable\n",
    "\n",
    "#additional_features = [\"MACD_Histogram\",\"RSI\",\"MACD\", 'EMA_12',\"Article Length\" ]\n",
    "#additional_features = ['RSI', 'Volume', 'MACD_Histogram', 'Timestamp', 'Day', 'Signal_Line', 'Month', 'DayOfWeek', 'Close', 'Article Length', 'Open', 'Low']\n",
    "#X = df[['article_sentiment'] + additional_features]  # Include 'article_sentiment' and other features\n",
    "\n",
    "#X = df.drop([\"Price_Change_Pct\", \"date\"], axis=1)  # Exclude target variable and date\n",
    "X = df[['Open', 'Volume', 'RSI', 'article_sentiment']]\n",
    "y = df['Price_Change_Pct']  # Target variable\n",
    "\n",
    "# Split the data into training and testing sets (80/20 split)\n",
    "X_train, X_test, y_train, y_test = train_test_split(X, y, test_size=0.2, random_state=42)\n",
    "\n",
    "# Standardize the features\n",
    "scaler = StandardScaler()\n",
    "X_train_scaled = scaler.fit_transform(X_train)\n",
    "X_test_scaled = scaler.transform(X_test)\n",
    "\n",
    "# Create a linear regression model\n",
    "lin_reg = LinearRegression()\n",
    "\n",
    "# Fit the model to the training data\n",
    "lin_reg.fit(X_train_scaled, y_train)\n",
    "\n",
    "# Predict on the test data\n",
    "y_pred = lin_reg.predict(X_test_scaled)\n",
    "\n",
    "# Calculate evaluation metrics\n",
    "mae = mean_absolute_error(y_test, y_pred)\n",
    "mse = mean_squared_error(y_test, y_pred)\n",
    "r2 = r2_score(y_test, y_pred)\n",
    "\n",
    "# Output model coefficients and performance metrics\n",
    "coefficients = dict(zip(X.columns, lin_reg.coef_))  # Get model coefficients\n",
    "print(\"Evaluation Metrics:\")\n",
    "print(\"Mean Absolute Error (MAE):\", mae)\n",
    "print(\"Mean Squared Error (MSE):\", mse)\n",
    "print(\"R-squared (R2):\", r2)\n",
    "\n",
    "# Add a constant term to the features\n",
    "X_train_with_const = sm.add_constant(X_train_scaled)\n",
    "\n",
    "# Create and fit the model\n",
    "model = sm.OLS(y_train, X_train_with_const)\n",
    "results = model.fit()\n",
    "\n",
    "# Print the summary\n",
    "print(\"\\nLinear Regression Summary:\")\n",
    "print(results.summary())\n"
   ]
  },
  {
   "cell_type": "code",
   "execution_count": 38,
   "metadata": {},
   "outputs": [
    {
     "name": "stdout",
     "output_type": "stream",
     "text": [
      "Evaluation Metrics:\n",
      "Mean Absolute Error (MAE): 0.8732792884842248\n",
      "Mean Squared Error (MSE): 1.9740970020462454\n",
      "R-squared (R2): 0.5613875753491184\n",
      "\n",
      "Model Coefficients:\n",
      "article_sentiment: 0.012809936148023154\n",
      "RSI: 0.13324843481575965\n",
      "Volume: 0.01768857093639441\n",
      "MACD_Histogram: 0.546367688386806\n",
      "Timestamp: 0.13469314707503\n",
      "Day: 0.03401066267974658\n",
      "Signal_Line: 0.0685244267860889\n",
      "Month: -0.03746306333304848\n",
      "DayOfWeek: 0.01035913069538964\n",
      "Close: 40.172920259195116\n",
      "Article Length: 0.004923471318324079\n",
      "Open: -20.806406761066402\n",
      "Low: -19.434645193586935\n"
     ]
    }
   ],
   "source": [
    "print(\"Evaluation Metrics:\")\n",
    "print(\"Mean Absolute Error (MAE):\", mae)\n",
    "print(\"Mean Squared Error (MSE):\", mse)\n",
    "print(\"R-squared (R2):\", r2)\n",
    "\n",
    "print(\"\\nModel Coefficients:\")\n",
    "for feature, coefficient in coefficients.items():\n",
    "    print(f\"{feature}: {coefficient}\")\n",
    "\n",
    "\n"
   ]
  },
  {
   "cell_type": "code",
   "execution_count": null,
   "metadata": {},
   "outputs": [],
   "source": []
  },
  {
   "cell_type": "code",
   "execution_count": 45,
   "metadata": {},
   "outputs": [
    {
     "data": {
      "image/png": "[encoded data removed]",
      "text/plain": [
       "<Figure size 864x432 with 2 Axes>"
      ]
     },
     "metadata": {
      "needs_background": "light"
     },
     "output_type": "display_data"
    }
   ],
   "source": [
    "# Ensure consistent column names (strip leading/trailing spaces)\n",
    "df.columns = df.columns.str.strip()\n",
    "\n",
    "# Convert the 'date' column to datetime for proper plotting\n",
    "df['date'] = pd.to_datetime(df['date'])\n",
    "\n",
    "# Plotting article sentiment and stock close price with a secondary y-axis\n",
    "fig, ax1 = plt.subplots(figsize=(12, 6))\n",
    "\n",
    "# Plot the article sentiment (1 to 5 scale)\n",
    "ax1.plot(df['date'], df['article_sentiment'], color='b', label='Article Sentiment')\n",
    "ax1.set_xlabel('Date')\n",
    "ax1.set_ylabel('Sentiment Score', color='b')\n",
    "ax1.tick_params(axis='y', labelcolor='b')\n",
    "\n",
    "# Create a secondary y-axis for the stock close price\n",
    "ax2 = ax1.twinx()\n",
    "ax2.plot(df['date'], df['Close'], color='r', label='Stock Close Price')\n",
    "ax2.set_ylabel('Stock Close Price', color='r')\n",
    "ax2.tick_params(axis='y', labelcolor='r')\n",
    "\n",
    "# Set the title and legend\n",
    "plt.title('Article Sentiment and Stock Close Price Over Time')\n",
    "fig.legend(loc='upper right')\n",
    "\n",
    "# Show the plot\n",
    "plt.show()"
   ]
  }
 ],
 "metadata": {
  "kernelspec": {
   "display_name": "Python 3",
   "language": "python",
   "name": "python3"
  },
  "language_info": {
   "codemirror_mode": {
    "name": "ipython",
    "version": 3
   },
   "file_extension": ".py",
   "mimetype": "text/x-python",
   "name": "python",
   "nbconvert_exporter": "python",
   "pygments_lexer": "ipython3",
   "version": "3.12.3"
  }
 },
 "nbformat": 4,
 "nbformat_minor": 2
}
